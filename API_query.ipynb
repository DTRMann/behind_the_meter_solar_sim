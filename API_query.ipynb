{
 "cells": [
  {
   "cell_type": "code",
   "execution_count": 13,
   "metadata": {
    "collapsed": true
   },
   "outputs": [],
   "source": [
    "import requests\n",
    "import zipfile\n",
    "import xml.etree.ElementTree as ET\n",
    "from bs4 import BeautifulSoup\n",
    "from datetime import date, datetime, timedelta\n",
    "import pandas as pd\n",
    "from ggplot import *\n",
    "import sqlite3"
   ]
  },
  {
   "cell_type": "code",
   "execution_count": null,
   "metadata": {
    "collapsed": true
   },
   "outputs": [],
   "source": [
    "## PV watts main site: http://pvwatts.nrel.gov/pvwatts.php\n",
    "## API description: https://developer.nrel.gov/docs/solar/pvwatts-v5/"
   ]
  },
  {
   "cell_type": "code",
   "execution_count": 40,
   "metadata": {
    "collapsed": true
   },
   "outputs": [],
   "source": [
    "q_base = 'https://developer.nrel.gov/api/pvwatts/v5.xml?'"
   ]
  },
  {
   "cell_type": "code",
   "execution_count": 41,
   "metadata": {
    "collapsed": true
   },
   "outputs": [],
   "source": [
    "# Station in Santa Monica, LA\n",
    "q_main = 'lat=34.02&lon=-118.45&system_capacity=4&azimuth=180&tilt=40&array_type=1&module_type=1&losses=10&timeframe=hourly&'"
   ]
  },
  {
   "cell_type": "code",
   "execution_count": 42,
   "metadata": {
    "collapsed": true
   },
   "outputs": [],
   "source": [
    "# Get API key at: http://pvwatts.nrel.gov/pvwatts.php\n",
    "api_key = 'api_key='"
   ]
  },
  {
   "cell_type": "code",
   "execution_count": null,
   "metadata": {},
   "outputs": [],
   "source": [
    "print q_base + q_main + api_key"
   ]
  },
  {
   "cell_type": "code",
   "execution_count": 44,
   "metadata": {
    "collapsed": true
   },
   "outputs": [],
   "source": [
    "r = requests.get(q_base + q_main + api_key)\n",
    "open('extract','wb').write(r.content)"
   ]
  },
  {
   "cell_type": "code",
   "execution_count": 46,
   "metadata": {
    "collapsed": true
   },
   "outputs": [],
   "source": [
    "tree = ET.fromstring(r.content)"
   ]
  },
  {
   "cell_type": "code",
   "execution_count": 48,
   "metadata": {},
   "outputs": [
    {
     "name": "stderr",
     "output_type": "stream",
     "text": [
      "IOPub data rate exceeded.\n",
      "The notebook server will temporarily stop sending output\n",
      "to the client in order to avoid crashing it.\n",
      "To change this limit, set the config variable\n",
      "`--NotebookApp.iopub_data_rate_limit`.\n"
     ]
    }
   ],
   "source": [
    "soup = BeautifulSoup(r.content,\"lxml\")\n",
    "print soup.prettify()"
   ]
  },
  {
   "cell_type": "code",
   "execution_count": 75,
   "metadata": {
    "collapsed": true
   },
   "outputs": [],
   "source": [
    "# Extract ac output for each hour in the year\n",
    "gen = []\n",
    "for data in tree.iter('ac'):\n",
    "    gen.append(data.text)"
   ]
  },
  {
   "cell_type": "code",
   "execution_count": 83,
   "metadata": {},
   "outputs": [
    {
     "data": {
      "text/plain": [
       "8760"
      ]
     },
     "execution_count": 83,
     "metadata": {},
     "output_type": "execute_result"
    }
   ],
   "source": [
    "### Gen includes parent as first entry (which is empty here; remove; length should be 0)\n",
    "del(gen[0])\n",
    "len(gen)"
   ]
  },
  {
   "cell_type": "code",
   "execution_count": null,
   "metadata": {
    "collapsed": true
   },
   "outputs": [],
   "source": [
    "### Convert entries into dataframe with dates; use starting hours (0-23)"
   ]
  },
  {
   "cell_type": "code",
   "execution_count": 88,
   "metadata": {
    "collapsed": true
   },
   "outputs": [],
   "source": [
    "start = datetime.strptime('01/01/2017 00','%m/%d/%Y %H')\n",
    "end = datetime.strptime('12/31/2017 23','%m/%d/%Y %H')"
   ]
  },
  {
   "cell_type": "code",
   "execution_count": 90,
   "metadata": {},
   "outputs": [
    {
     "name": "stdout",
     "output_type": "stream",
     "text": [
      "2017-01-01 00:00:00  to  2017-12-31 23:00:00\n"
     ]
    }
   ],
   "source": [
    "# Verify that this homeslice worked\n",
    "print start , ' to ' , end"
   ]
  },
  {
   "cell_type": "code",
   "execution_count": 107,
   "metadata": {
    "collapsed": true
   },
   "outputs": [],
   "source": [
    "### Generate datetime variables for each out between the start and end dates\n",
    "\n",
    "delta = end - start\n",
    "\n",
    "hour_steps = []\n",
    "\n",
    "for i in range((delta.days + 1)*24):\n",
    "    hour_steps.append(start + timedelta(hours = i))"
   ]
  },
  {
   "cell_type": "code",
   "execution_count": 108,
   "metadata": {},
   "outputs": [
    {
     "data": {
      "text/plain": [
       "8760"
      ]
     },
     "execution_count": 108,
     "metadata": {},
     "output_type": "execute_result"
    }
   ],
   "source": [
    "len(hour_steps)"
   ]
  },
  {
   "cell_type": "code",
   "execution_count": 114,
   "metadata": {
    "collapsed": true
   },
   "outputs": [],
   "source": [
    "la_gen = pd.DataFrame(\n",
    "    {'date_time':hour_steps,\n",
    "    'generation': gen})"
   ]
  },
  {
   "cell_type": "code",
   "execution_count": 127,
   "metadata": {
    "collapsed": true
   },
   "outputs": [],
   "source": [
    "### Create hour of the day variable\n",
    "la_gen['hour'] = la_gen['date_time'].apply(lambda x: datetime.strftime(x,'%H'))"
   ]
  },
  {
   "cell_type": "code",
   "execution_count": 130,
   "metadata": {},
   "outputs": [
    {
     "data": {
      "text/html": [
       "<div>\n",
       "<style>\n",
       "    .dataframe thead tr:only-child th {\n",
       "        text-align: right;\n",
       "    }\n",
       "\n",
       "    .dataframe thead th {\n",
       "        text-align: left;\n",
       "    }\n",
       "\n",
       "    .dataframe tbody tr th {\n",
       "        vertical-align: top;\n",
       "    }\n",
       "</style>\n",
       "<table border=\"1\" class=\"dataframe\">\n",
       "  <thead>\n",
       "    <tr style=\"text-align: right;\">\n",
       "      <th></th>\n",
       "      <th>date_time</th>\n",
       "      <th>generation</th>\n",
       "      <th>hour</th>\n",
       "    </tr>\n",
       "  </thead>\n",
       "  <tbody>\n",
       "    <tr>\n",
       "      <th>8736</th>\n",
       "      <td>2017-12-31 00:00:00</td>\n",
       "      <td>0.0</td>\n",
       "      <td>00</td>\n",
       "    </tr>\n",
       "    <tr>\n",
       "      <th>8737</th>\n",
       "      <td>2017-12-31 01:00:00</td>\n",
       "      <td>0.0</td>\n",
       "      <td>01</td>\n",
       "    </tr>\n",
       "    <tr>\n",
       "      <th>8738</th>\n",
       "      <td>2017-12-31 02:00:00</td>\n",
       "      <td>0.0</td>\n",
       "      <td>02</td>\n",
       "    </tr>\n",
       "    <tr>\n",
       "      <th>8739</th>\n",
       "      <td>2017-12-31 03:00:00</td>\n",
       "      <td>0.0</td>\n",
       "      <td>03</td>\n",
       "    </tr>\n",
       "    <tr>\n",
       "      <th>8740</th>\n",
       "      <td>2017-12-31 04:00:00</td>\n",
       "      <td>0.0</td>\n",
       "      <td>04</td>\n",
       "    </tr>\n",
       "    <tr>\n",
       "      <th>8741</th>\n",
       "      <td>2017-12-31 05:00:00</td>\n",
       "      <td>0.0</td>\n",
       "      <td>05</td>\n",
       "    </tr>\n",
       "    <tr>\n",
       "      <th>8742</th>\n",
       "      <td>2017-12-31 06:00:00</td>\n",
       "      <td>0.0</td>\n",
       "      <td>06</td>\n",
       "    </tr>\n",
       "    <tr>\n",
       "      <th>8743</th>\n",
       "      <td>2017-12-31 07:00:00</td>\n",
       "      <td>182.058</td>\n",
       "      <td>07</td>\n",
       "    </tr>\n",
       "    <tr>\n",
       "      <th>8744</th>\n",
       "      <td>2017-12-31 08:00:00</td>\n",
       "      <td>436.885</td>\n",
       "      <td>08</td>\n",
       "    </tr>\n",
       "    <tr>\n",
       "      <th>8745</th>\n",
       "      <td>2017-12-31 09:00:00</td>\n",
       "      <td>481.294</td>\n",
       "      <td>09</td>\n",
       "    </tr>\n",
       "    <tr>\n",
       "      <th>8746</th>\n",
       "      <td>2017-12-31 10:00:00</td>\n",
       "      <td>668.343</td>\n",
       "      <td>10</td>\n",
       "    </tr>\n",
       "    <tr>\n",
       "      <th>8747</th>\n",
       "      <td>2017-12-31 11:00:00</td>\n",
       "      <td>767.427</td>\n",
       "      <td>11</td>\n",
       "    </tr>\n",
       "    <tr>\n",
       "      <th>8748</th>\n",
       "      <td>2017-12-31 12:00:00</td>\n",
       "      <td>1058.74</td>\n",
       "      <td>12</td>\n",
       "    </tr>\n",
       "    <tr>\n",
       "      <th>8749</th>\n",
       "      <td>2017-12-31 13:00:00</td>\n",
       "      <td>718.694</td>\n",
       "      <td>13</td>\n",
       "    </tr>\n",
       "    <tr>\n",
       "      <th>8750</th>\n",
       "      <td>2017-12-31 14:00:00</td>\n",
       "      <td>518.596</td>\n",
       "      <td>14</td>\n",
       "    </tr>\n",
       "    <tr>\n",
       "      <th>8751</th>\n",
       "      <td>2017-12-31 15:00:00</td>\n",
       "      <td>423.656</td>\n",
       "      <td>15</td>\n",
       "    </tr>\n",
       "    <tr>\n",
       "      <th>8752</th>\n",
       "      <td>2017-12-31 16:00:00</td>\n",
       "      <td>99.743</td>\n",
       "      <td>16</td>\n",
       "    </tr>\n",
       "    <tr>\n",
       "      <th>8753</th>\n",
       "      <td>2017-12-31 17:00:00</td>\n",
       "      <td>0.0</td>\n",
       "      <td>17</td>\n",
       "    </tr>\n",
       "    <tr>\n",
       "      <th>8754</th>\n",
       "      <td>2017-12-31 18:00:00</td>\n",
       "      <td>0.0</td>\n",
       "      <td>18</td>\n",
       "    </tr>\n",
       "    <tr>\n",
       "      <th>8755</th>\n",
       "      <td>2017-12-31 19:00:00</td>\n",
       "      <td>0.0</td>\n",
       "      <td>19</td>\n",
       "    </tr>\n",
       "    <tr>\n",
       "      <th>8756</th>\n",
       "      <td>2017-12-31 20:00:00</td>\n",
       "      <td>0.0</td>\n",
       "      <td>20</td>\n",
       "    </tr>\n",
       "    <tr>\n",
       "      <th>8757</th>\n",
       "      <td>2017-12-31 21:00:00</td>\n",
       "      <td>0.0</td>\n",
       "      <td>21</td>\n",
       "    </tr>\n",
       "    <tr>\n",
       "      <th>8758</th>\n",
       "      <td>2017-12-31 22:00:00</td>\n",
       "      <td>0.0</td>\n",
       "      <td>22</td>\n",
       "    </tr>\n",
       "    <tr>\n",
       "      <th>8759</th>\n",
       "      <td>2017-12-31 23:00:00</td>\n",
       "      <td>0.0</td>\n",
       "      <td>23</td>\n",
       "    </tr>\n",
       "  </tbody>\n",
       "</table>\n",
       "</div>"
      ],
      "text/plain": [
       "               date_time generation hour\n",
       "8736 2017-12-31 00:00:00        0.0   00\n",
       "8737 2017-12-31 01:00:00        0.0   01\n",
       "8738 2017-12-31 02:00:00        0.0   02\n",
       "8739 2017-12-31 03:00:00        0.0   03\n",
       "8740 2017-12-31 04:00:00        0.0   04\n",
       "8741 2017-12-31 05:00:00        0.0   05\n",
       "8742 2017-12-31 06:00:00        0.0   06\n",
       "8743 2017-12-31 07:00:00    182.058   07\n",
       "8744 2017-12-31 08:00:00    436.885   08\n",
       "8745 2017-12-31 09:00:00    481.294   09\n",
       "8746 2017-12-31 10:00:00    668.343   10\n",
       "8747 2017-12-31 11:00:00    767.427   11\n",
       "8748 2017-12-31 12:00:00    1058.74   12\n",
       "8749 2017-12-31 13:00:00    718.694   13\n",
       "8750 2017-12-31 14:00:00    518.596   14\n",
       "8751 2017-12-31 15:00:00    423.656   15\n",
       "8752 2017-12-31 16:00:00     99.743   16\n",
       "8753 2017-12-31 17:00:00        0.0   17\n",
       "8754 2017-12-31 18:00:00        0.0   18\n",
       "8755 2017-12-31 19:00:00        0.0   19\n",
       "8756 2017-12-31 20:00:00        0.0   20\n",
       "8757 2017-12-31 21:00:00        0.0   21\n",
       "8758 2017-12-31 22:00:00        0.0   22\n",
       "8759 2017-12-31 23:00:00        0.0   23"
      ]
     },
     "execution_count": 130,
     "metadata": {},
     "output_type": "execute_result"
    }
   ],
   "source": []
  },
  {
   "cell_type": "code",
   "execution_count": 134,
   "metadata": {},
   "outputs": [
    {
     "name": "stdout",
     "output_type": "stream",
     "text": [
      "2017-01-01 00:00:00\n"
     ]
    }
   ],
   "source": [
    "print la_gen['date_time']"
   ]
  },
  {
   "cell_type": "code",
   "execution_count": 143,
   "metadata": {},
   "outputs": [
    {
     "data": {
      "text/plain": [
       "True"
      ]
     },
     "execution_count": 143,
     "metadata": {},
     "output_type": "execute_result"
    }
   ],
   "source": [
    "la_gen['date_time'][0] == datetime.strptime('2017-01-01','%Y-%m-%d')"
   ]
  },
  {
   "cell_type": "code",
   "execution_count": 147,
   "metadata": {},
   "outputs": [
    {
     "name": "stdout",
     "output_type": "stream",
     "text": [
      "             date_time generation hour\n",
      "0  2017-01-01 00:00:00        0.0   00\n",
      "1  2017-01-01 01:00:00        0.0   01\n",
      "2  2017-01-01 02:00:00        0.0   02\n",
      "3  2017-01-01 03:00:00        0.0   03\n",
      "4  2017-01-01 04:00:00        0.0   04\n",
      "5  2017-01-01 05:00:00        0.0   05\n",
      "6  2017-01-01 06:00:00        0.0   06\n",
      "7  2017-01-01 07:00:00     91.636   07\n",
      "8  2017-01-01 08:00:00    911.124   08\n",
      "9  2017-01-01 09:00:00   1345.334   09\n",
      "10 2017-01-01 10:00:00   2007.005   10\n",
      "11 2017-01-01 11:00:00   2327.701   11\n",
      "12 2017-01-01 12:00:00   2625.026   12\n",
      "13 2017-01-01 13:00:00    2300.32   13\n",
      "14 2017-01-01 14:00:00     1636.5   14\n",
      "15 2017-01-01 15:00:00    822.792   15\n",
      "16 2017-01-01 16:00:00    117.353   16\n",
      "17 2017-01-01 17:00:00        0.0   17\n",
      "18 2017-01-01 18:00:00        0.0   18\n",
      "19 2017-01-01 19:00:00        0.0   19\n",
      "20 2017-01-01 20:00:00        0.0   20\n",
      "21 2017-01-01 21:00:00        0.0   21\n",
      "22 2017-01-01 22:00:00        0.0   22\n",
      "23 2017-01-01 23:00:00        0.0   23\n"
     ]
    }
   ],
   "source": [
    "print la_gen[(la_gen['date_time'] >= datetime.strptime('2017-01-01','%Y-%m-%d')) & (la_gen['date_time'] < datetime.strptime('2017-01-02','%Y-%m-%d'))]"
   ]
  },
  {
   "cell_type": "code",
   "execution_count": 160,
   "metadata": {},
   "outputs": [
    {
     "data": {
      "image/png": "[encoded data removed]",
      "text/plain": [
       "<matplotlib.figure.Figure at 0x219186d8>"
      ]
     },
     "metadata": {},
     "output_type": "display_data"
    },
    {
     "data": {
      "text/plain": [
       "<ggplot: (35199064)>"
      ]
     },
     "execution_count": 160,
     "metadata": {},
     "output_type": "execute_result"
    }
   ],
   "source": [
    "ggplot(aes(x = 'date_time', y= 'generation'), data = la_gen[(la_gen['date_time'] >= datetime.strptime('2017-01-01','%Y-%m-%d')) & (la_gen['date_time'] < datetime.strptime('2017-01-02','%Y-%m-%d'))]) + \\\n",
    "geom_line()"
   ]
  },
  {
   "cell_type": "code",
   "execution_count": 158,
   "metadata": {
    "collapsed": true
   },
   "outputs": [],
   "source": [
    "la_gen['generation'] = la_gen['generation'].astype('float')"
   ]
  },
  {
   "cell_type": "code",
   "execution_count": null,
   "metadata": {
    "collapsed": true
   },
   "outputs": [],
   "source": [
    "### Create database so you don't have to do it again"
   ]
  },
  {
   "cell_type": "code",
   "execution_count": 163,
   "metadata": {
    "collapsed": true
   },
   "outputs": [],
   "source": [
    "conn = sqlite3.connect('pv_production_CA.db')"
   ]
  },
  {
   "cell_type": "code",
   "execution_count": 164,
   "metadata": {
    "collapsed": true
   },
   "outputs": [],
   "source": [
    "cur = conn.cursor()"
   ]
  },
  {
   "cell_type": "code",
   "execution_count": 167,
   "metadata": {
    "collapsed": true
   },
   "outputs": [],
   "source": [
    "la_gen.to_sql('la_gen',conn)"
   ]
  },
  {
   "cell_type": "code",
   "execution_count": 174,
   "metadata": {},
   "outputs": [
    {
     "name": "stdout",
     "output_type": "stream",
     "text": [
      "[(u'la_gen',)]\n"
     ]
    }
   ],
   "source": [
    "cur.execute(\"SELECT name FROM sqlite_master WHERE type='table';\")\n",
    "print(cur.fetchall())"
   ]
  },
  {
   "cell_type": "code",
   "execution_count": null,
   "metadata": {
    "collapsed": true
   },
   "outputs": [],
   "source": [
    "conn.close()"
   ]
  }
 ],
 "metadata": {
  "kernelspec": {
   "display_name": "Python 2",
   "language": "python",
   "name": "python2"
  },
  "language_info": {
   "codemirror_mode": {
    "name": "ipython",
    "version": 2
   },
   "file_extension": ".py",
   "mimetype": "text/x-python",
   "name": "python",
   "nbconvert_exporter": "python",
   "pygments_lexer": "ipython2",
   "version": "2.7.13"
  }
 },
 "nbformat": 4,
 "nbformat_minor": 2
}
