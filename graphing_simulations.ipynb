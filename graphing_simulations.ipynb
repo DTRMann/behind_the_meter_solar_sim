{
 "cells": [
  {
   "cell_type": "code",
   "execution_count": 4,
   "metadata": {},
   "outputs": [],
   "source": [
    "import sqlite3\n",
    "import pandas as pd\n",
    "from ggplot import *\n",
    "from datetime import date, datetime, timedelta\n",
    "import numpy as np\n",
    "import matplotlib.pyplot as plt\n",
    "import matplotlib.lines as mlines\n",
    "import statsmodels.api as sm"
   ]
  },
  {
   "cell_type": "code",
   "execution_count": 5,
   "metadata": {
    "collapsed": true
   },
   "outputs": [],
   "source": [
    "conn = sqlite3.connect('pv_production_CA.db')\n",
    "cur = conn.cursor()"
   ]
  },
  {
   "cell_type": "code",
   "execution_count": 6,
   "metadata": {},
   "outputs": [
    {
     "name": "stdout",
     "output_type": "stream",
     "text": [
      "[(u'la_gen',), (u'redd_gen',), (u'fres_gen',)]\n"
     ]
    }
   ],
   "source": [
    "cur.execute(\"SELECT name FROM sqlite_master WHERE type='table';\")\n",
    "print(cur.fetchall())"
   ]
  },
  {
   "cell_type": "code",
   "execution_count": 7,
   "metadata": {
    "collapsed": true
   },
   "outputs": [],
   "source": [
    "la_gen = pd.read_sql_query(\"SELECT * from la_gen\", conn)"
   ]
  },
  {
   "cell_type": "code",
   "execution_count": 8,
   "metadata": {
    "collapsed": true
   },
   "outputs": [],
   "source": [
    "redd_gen = pd.read_sql_query(\"SELECT * from redd_gen\", conn)"
   ]
  },
  {
   "cell_type": "code",
   "execution_count": 9,
   "metadata": {
    "collapsed": true
   },
   "outputs": [],
   "source": [
    "fres_gen = pd.read_sql_query(\"SELECT * from fres_gen\", conn)"
   ]
  },
  {
   "cell_type": "code",
   "execution_count": 10,
   "metadata": {
    "collapsed": true
   },
   "outputs": [],
   "source": [
    "conn.close()"
   ]
  },
  {
   "cell_type": "code",
   "execution_count": 11,
   "metadata": {
    "collapsed": true
   },
   "outputs": [],
   "source": [
    "### concatenate dataframes vertically"
   ]
  },
  {
   "cell_type": "code",
   "execution_count": 12,
   "metadata": {
    "collapsed": true
   },
   "outputs": [],
   "source": [
    "# First, create a new column in each table with the city name"
   ]
  },
  {
   "cell_type": "code",
   "execution_count": 13,
   "metadata": {
    "collapsed": true
   },
   "outputs": [],
   "source": [
    "la_gen['city'] =  'los_angeles'\n",
    "redd_gen['city'] = 'redding'\n",
    "fres_gen['city'] = 'fresno'"
   ]
  },
  {
   "cell_type": "code",
   "execution_count": 14,
   "metadata": {
    "collapsed": true
   },
   "outputs": [],
   "source": [
    "frames = [la_gen, redd_gen, fres_gen]\n",
    "gen_data = pd.concat(frames)"
   ]
  },
  {
   "cell_type": "code",
   "execution_count": 15,
   "metadata": {
    "collapsed": true
   },
   "outputs": [],
   "source": [
    "del(la_gen)\n",
    "del(redd_gen)\n",
    "del(fres_gen)"
   ]
  },
  {
   "cell_type": "code",
   "execution_count": 16,
   "metadata": {
    "collapsed": true
   },
   "outputs": [],
   "source": [
    "## Sort and convert variables to the correct formats"
   ]
  },
  {
   "cell_type": "code",
   "execution_count": 17,
   "metadata": {},
   "outputs": [
    {
     "data": {
      "text/html": [
       "<div>\n",
       "<style>\n",
       "    .dataframe thead tr:only-child th {\n",
       "        text-align: right;\n",
       "    }\n",
       "\n",
       "    .dataframe thead th {\n",
       "        text-align: left;\n",
       "    }\n",
       "\n",
       "    .dataframe tbody tr th {\n",
       "        vertical-align: top;\n",
       "    }\n",
       "</style>\n",
       "<table border=\"1\" class=\"dataframe\">\n",
       "  <thead>\n",
       "    <tr style=\"text-align: right;\">\n",
       "      <th></th>\n",
       "      <th>index</th>\n",
       "      <th>date_time</th>\n",
       "      <th>generation</th>\n",
       "      <th>hour</th>\n",
       "      <th>city</th>\n",
       "    </tr>\n",
       "  </thead>\n",
       "  <tbody>\n",
       "    <tr>\n",
       "      <th>0</th>\n",
       "      <td>0</td>\n",
       "      <td>2017-01-01 00:00:00</td>\n",
       "      <td>0.0</td>\n",
       "      <td>00</td>\n",
       "      <td>los_angeles</td>\n",
       "    </tr>\n",
       "    <tr>\n",
       "      <th>1</th>\n",
       "      <td>1</td>\n",
       "      <td>2017-01-01 01:00:00</td>\n",
       "      <td>0.0</td>\n",
       "      <td>01</td>\n",
       "      <td>los_angeles</td>\n",
       "    </tr>\n",
       "    <tr>\n",
       "      <th>2</th>\n",
       "      <td>2</td>\n",
       "      <td>2017-01-01 02:00:00</td>\n",
       "      <td>0.0</td>\n",
       "      <td>02</td>\n",
       "      <td>los_angeles</td>\n",
       "    </tr>\n",
       "    <tr>\n",
       "      <th>3</th>\n",
       "      <td>3</td>\n",
       "      <td>2017-01-01 03:00:00</td>\n",
       "      <td>0.0</td>\n",
       "      <td>03</td>\n",
       "      <td>los_angeles</td>\n",
       "    </tr>\n",
       "    <tr>\n",
       "      <th>4</th>\n",
       "      <td>4</td>\n",
       "      <td>2017-01-01 04:00:00</td>\n",
       "      <td>0.0</td>\n",
       "      <td>04</td>\n",
       "      <td>los_angeles</td>\n",
       "    </tr>\n",
       "  </tbody>\n",
       "</table>\n",
       "</div>"
      ],
      "text/plain": [
       "   index            date_time  generation hour         city\n",
       "0      0  2017-01-01 00:00:00         0.0   00  los_angeles\n",
       "1      1  2017-01-01 01:00:00         0.0   01  los_angeles\n",
       "2      2  2017-01-01 02:00:00         0.0   02  los_angeles\n",
       "3      3  2017-01-01 03:00:00         0.0   03  los_angeles\n",
       "4      4  2017-01-01 04:00:00         0.0   04  los_angeles"
      ]
     },
     "execution_count": 17,
     "metadata": {},
     "output_type": "execute_result"
    }
   ],
   "source": [
    "gen_data.head()"
   ]
  },
  {
   "cell_type": "code",
   "execution_count": 18,
   "metadata": {},
   "outputs": [
    {
     "data": {
      "text/plain": [
       "dtype('O')"
      ]
     },
     "execution_count": 18,
     "metadata": {},
     "output_type": "execute_result"
    }
   ],
   "source": [
    "# Second thing first: converting variables\n",
    "gen_data['date_time'].dtype"
   ]
  },
  {
   "cell_type": "code",
   "execution_count": 19,
   "metadata": {
    "collapsed": true
   },
   "outputs": [],
   "source": [
    "gen_data['date_time'] = pd.to_datetime(gen_data['date_time'], format = '%Y-%m-%d %H:%M:%S')"
   ]
  },
  {
   "cell_type": "code",
   "execution_count": 20,
   "metadata": {
    "collapsed": true
   },
   "outputs": [],
   "source": [
    "gen_data['generation'] = gen_data['generation'].astype('float')"
   ]
  },
  {
   "cell_type": "code",
   "execution_count": 21,
   "metadata": {
    "collapsed": true
   },
   "outputs": [],
   "source": [
    "### To test simulations, extract a sample month"
   ]
  },
  {
   "cell_type": "code",
   "execution_count": 22,
   "metadata": {
    "collapsed": true
   },
   "outputs": [],
   "source": [
    "gen_june = gen_data[(gen_data['date_time'] >= datetime.strptime('2017-06-01 00:00:00','%Y-%m-%d %H:%M:%S')) & (gen_data['date_time'] <= datetime.strptime('2017-06-30 00:00:00','%Y-%m-%d %H:%M:%S'))]"
   ]
  },
  {
   "cell_type": "code",
   "execution_count": 23,
   "metadata": {
    "collapsed": true
   },
   "outputs": [],
   "source": [
    "### For simulations, link load to generic weather variable (e.g. temperature) as counterfactual\n",
    "### For treatment, link load to weather variable as well as a given generator"
   ]
  },
  {
   "cell_type": "code",
   "execution_count": 24,
   "metadata": {
    "collapsed": true
   },
   "outputs": [],
   "source": [
    "## Load simulation: use a \"base\" load profile"
   ]
  },
  {
   "cell_type": "code",
   "execution_count": 25,
   "metadata": {
    "collapsed": true
   },
   "outputs": [],
   "source": [
    "### Randomly create variation in each hours' load by creating a vector of random numbers mean = 0 for each hour\n",
    "mu, sigma = 0, 1 # mean and standard deviation\n",
    "wiggle = np.random.normal(mu, sigma, 24*30)"
   ]
  },
  {
   "cell_type": "code",
   "execution_count": 26,
   "metadata": {
    "collapsed": true
   },
   "outputs": [],
   "source": [
    "## Create load curve for base load profile\n",
    "load_lst = []\n",
    "load_lst = [10,10,9,8,10,14,17,18,20,21,25,28,31,32,37,38,42,43,44,46,40,35,30,20]"
   ]
  },
  {
   "cell_type": "code",
   "execution_count": 27,
   "metadata": {
    "collapsed": true
   },
   "outputs": [],
   "source": [
    "load_base =  {'hour': [x for x in range(24)],\n",
    "                'base': load_lst}\n",
    "\n",
    "load_base = pd.DataFrame(load_base)"
   ]
  },
  {
   "cell_type": "code",
   "execution_count": 28,
   "metadata": {},
   "outputs": [
    {
     "data": {
      "text/html": [
       "<div>\n",
       "<style>\n",
       "    .dataframe thead tr:only-child th {\n",
       "        text-align: right;\n",
       "    }\n",
       "\n",
       "    .dataframe thead th {\n",
       "        text-align: left;\n",
       "    }\n",
       "\n",
       "    .dataframe tbody tr th {\n",
       "        vertical-align: top;\n",
       "    }\n",
       "</style>\n",
       "<table border=\"1\" class=\"dataframe\">\n",
       "  <thead>\n",
       "    <tr style=\"text-align: right;\">\n",
       "      <th></th>\n",
       "      <th>base</th>\n",
       "      <th>hour</th>\n",
       "    </tr>\n",
       "  </thead>\n",
       "  <tbody>\n",
       "    <tr>\n",
       "      <th>19</th>\n",
       "      <td>46</td>\n",
       "      <td>19</td>\n",
       "    </tr>\n",
       "    <tr>\n",
       "      <th>20</th>\n",
       "      <td>40</td>\n",
       "      <td>20</td>\n",
       "    </tr>\n",
       "    <tr>\n",
       "      <th>21</th>\n",
       "      <td>35</td>\n",
       "      <td>21</td>\n",
       "    </tr>\n",
       "    <tr>\n",
       "      <th>22</th>\n",
       "      <td>30</td>\n",
       "      <td>22</td>\n",
       "    </tr>\n",
       "    <tr>\n",
       "      <th>23</th>\n",
       "      <td>20</td>\n",
       "      <td>23</td>\n",
       "    </tr>\n",
       "  </tbody>\n",
       "</table>\n",
       "</div>"
      ],
      "text/plain": [
       "    base  hour\n",
       "19    46    19\n",
       "20    40    20\n",
       "21    35    21\n",
       "22    30    22\n",
       "23    20    23"
      ]
     },
     "execution_count": 28,
     "metadata": {},
     "output_type": "execute_result"
    }
   ],
   "source": [
    "load_base.tail()"
   ]
  },
  {
   "cell_type": "code",
   "execution_count": 29,
   "metadata": {
    "collapsed": true
   },
   "outputs": [],
   "source": [
    "## Creates hourly loads for each hour of the month, adjusted by a random variable mean=0 and sd=1,\n",
    "## then multiplied by .1 times base load. This means, for example, that an event that is 1 sd is 10%\n",
    "## above the base load for that hour. \n",
    "load_month = [((wiggle[(0+i2) + (23*i1)]*(.1*j)) + j) for i1,i in enumerate(range(30)) for i2,j in enumerate(load_base.base)]"
   ]
  },
  {
   "cell_type": "code",
   "execution_count": 30,
   "metadata": {
    "collapsed": true
   },
   "outputs": [],
   "source": [
    "## Convert load_month to a dataframe\n",
    "load_act = {'load_hr': load_month}\n",
    "load_act = pd.DataFrame(load_act)"
   ]
  },
  {
   "cell_type": "code",
   "execution_count": 31,
   "metadata": {
    "collapsed": true
   },
   "outputs": [],
   "source": [
    "## Create two lists with days and hours\n",
    "hours = [j for i in range(30) for j in range(24)]\n",
    "day = []\n",
    "for i in range(30):\n",
    "    for j in range(24):\n",
    "        day.append(i+1)"
   ]
  },
  {
   "cell_type": "code",
   "execution_count": 32,
   "metadata": {
    "collapsed": true
   },
   "outputs": [],
   "source": [
    "load_act['day'] = day"
   ]
  },
  {
   "cell_type": "code",
   "execution_count": 33,
   "metadata": {
    "collapsed": true
   },
   "outputs": [],
   "source": [
    "load_act['hour'] = hours"
   ]
  },
  {
   "cell_type": "code",
   "execution_count": 34,
   "metadata": {
    "collapsed": true
   },
   "outputs": [],
   "source": [
    "## Create index\n",
    "ind = []\n",
    "for i in range(720):\n",
    "    ind.append(i)"
   ]
  },
  {
   "cell_type": "code",
   "execution_count": 35,
   "metadata": {
    "collapsed": true
   },
   "outputs": [],
   "source": [
    "load_act['index'] = ind"
   ]
  },
  {
   "cell_type": "code",
   "execution_count": 36,
   "metadata": {
    "collapsed": true
   },
   "outputs": [],
   "source": [
    "### simulate solar output"
   ]
  },
  {
   "cell_type": "code",
   "execution_count": 37,
   "metadata": {
    "collapsed": true
   },
   "outputs": [],
   "source": [
    "## Pull June generation from the three cities\n",
    "jun_gen_data = gen_data[(gen_data['date_time'] >= datetime.strptime('06/01/2017 00','%m/%d/%Y %H')) & (gen_data['date_time'] <= datetime.strptime('06/30/2017 23','%m/%d/%Y %H'))]"
   ]
  },
  {
   "cell_type": "code",
   "execution_count": 38,
   "metadata": {
    "collapsed": true
   },
   "outputs": [],
   "source": [
    "# Include date column in load_act data\n",
    "load_act['date_time'] = jun_gen_data.date_time.unique()"
   ]
  },
  {
   "cell_type": "code",
   "execution_count": 39,
   "metadata": {},
   "outputs": [
    {
     "data": {
      "text/html": [
       "<div>\n",
       "<style>\n",
       "    .dataframe thead tr:only-child th {\n",
       "        text-align: right;\n",
       "    }\n",
       "\n",
       "    .dataframe thead th {\n",
       "        text-align: left;\n",
       "    }\n",
       "\n",
       "    .dataframe tbody tr th {\n",
       "        vertical-align: top;\n",
       "    }\n",
       "</style>\n",
       "<table border=\"1\" class=\"dataframe\">\n",
       "  <thead>\n",
       "    <tr style=\"text-align: right;\">\n",
       "      <th></th>\n",
       "      <th>load_hr</th>\n",
       "      <th>day</th>\n",
       "      <th>hour</th>\n",
       "      <th>index</th>\n",
       "      <th>date_time</th>\n",
       "    </tr>\n",
       "  </thead>\n",
       "  <tbody>\n",
       "    <tr>\n",
       "      <th>0</th>\n",
       "      <td>10.577134</td>\n",
       "      <td>1</td>\n",
       "      <td>0</td>\n",
       "      <td>0</td>\n",
       "      <td>2017-06-01 00:00:00</td>\n",
       "    </tr>\n",
       "    <tr>\n",
       "      <th>1</th>\n",
       "      <td>9.924829</td>\n",
       "      <td>1</td>\n",
       "      <td>1</td>\n",
       "      <td>1</td>\n",
       "      <td>2017-06-01 01:00:00</td>\n",
       "    </tr>\n",
       "    <tr>\n",
       "      <th>2</th>\n",
       "      <td>7.718577</td>\n",
       "      <td>1</td>\n",
       "      <td>2</td>\n",
       "      <td>2</td>\n",
       "      <td>2017-06-01 02:00:00</td>\n",
       "    </tr>\n",
       "    <tr>\n",
       "      <th>3</th>\n",
       "      <td>7.453556</td>\n",
       "      <td>1</td>\n",
       "      <td>3</td>\n",
       "      <td>3</td>\n",
       "      <td>2017-06-01 03:00:00</td>\n",
       "    </tr>\n",
       "    <tr>\n",
       "      <th>4</th>\n",
       "      <td>12.300450</td>\n",
       "      <td>1</td>\n",
       "      <td>4</td>\n",
       "      <td>4</td>\n",
       "      <td>2017-06-01 04:00:00</td>\n",
       "    </tr>\n",
       "  </tbody>\n",
       "</table>\n",
       "</div>"
      ],
      "text/plain": [
       "     load_hr  day  hour  index           date_time\n",
       "0  10.577134    1     0      0 2017-06-01 00:00:00\n",
       "1   9.924829    1     1      1 2017-06-01 01:00:00\n",
       "2   7.718577    1     2      2 2017-06-01 02:00:00\n",
       "3   7.453556    1     3      3 2017-06-01 03:00:00\n",
       "4  12.300450    1     4      4 2017-06-01 04:00:00"
      ]
     },
     "execution_count": 39,
     "metadata": {},
     "output_type": "execute_result"
    }
   ],
   "source": [
    "load_act.head()"
   ]
  },
  {
   "cell_type": "code",
   "execution_count": 40,
   "metadata": {},
   "outputs": [
    {
     "data": {
      "text/plain": [
       "2160"
      ]
     },
     "execution_count": 40,
     "metadata": {},
     "output_type": "execute_result"
    }
   ],
   "source": [
    "len(jun_gen_data)"
   ]
  },
  {
   "cell_type": "code",
   "execution_count": 41,
   "metadata": {},
   "outputs": [
    {
     "data": {
      "text/plain": [
       "pandas.core.frame.DataFrame"
      ]
     },
     "execution_count": 41,
     "metadata": {},
     "output_type": "execute_result"
    }
   ],
   "source": [
    "type(jun_gen_data)"
   ]
  },
  {
   "cell_type": "code",
   "execution_count": 42,
   "metadata": {},
   "outputs": [
    {
     "name": "stderr",
     "output_type": "stream",
     "text": [
      "C:\\Users\\David\\Anaconda2\\lib\\site-packages\\ipykernel_launcher.py:2: SettingWithCopyWarning: \n",
      "A value is trying to be set on a copy of a slice from a DataFrame.\n",
      "Try using .loc[row_indexer,col_indexer] = value instead\n",
      "\n",
      "See the caveats in the documentation: http://pandas.pydata.org/pandas-docs/stable/indexing.html#indexing-view-versus-copy\n",
      "  \n"
     ]
    }
   ],
   "source": [
    "# Convert generation from watts to kW\n",
    "jun_gen_data['generation'] = jun_gen_data['generation']/1000"
   ]
  },
  {
   "cell_type": "code",
   "execution_count": 43,
   "metadata": {
    "collapsed": true
   },
   "outputs": [],
   "source": [
    "## Create weather shocks for each region as well as random negative shocks, then simulate over 1000 generators in each city"
   ]
  },
  {
   "cell_type": "code",
   "execution_count": 105,
   "metadata": {
    "collapsed": true
   },
   "outputs": [],
   "source": [
    "# Parameterize weather shock as a certain distribution of shock over each city\n",
    "a = np.random.exponential(scale = .2, size = 1000)"
   ]
  },
  {
   "cell_type": "code",
   "execution_count": 106,
   "metadata": {},
   "outputs": [
    {
     "data": {
      "image/png": "[encoded data removed]",
      "text/plain": [
       "<matplotlib.figure.Figure at 0x1198e4e0>"
      ]
     },
     "metadata": {},
     "output_type": "display_data"
    }
   ],
   "source": [
    "plt.hist(a, bins='auto')\n",
    "plt.title(\"Exponential histogram\")\n",
    "plt.show()"
   ]
  },
  {
   "cell_type": "code",
   "execution_count": 46,
   "metadata": {
    "collapsed": true
   },
   "outputs": [],
   "source": [
    "### Conduct simulations\n",
    "## Simulate representative generator then run a total 1000 simulations for each city\n",
    "# Create a daily weather variable that is 1 or 0 to indicate whether random weather events occur (probabilities vary)\n",
    "# weather is assumed to be statewide\n",
    "weather_dum = []\n",
    "for i in range(30):\n",
    "    weather = np.random.uniform(0,1)\n",
    "    if weather < .25:\n",
    "        weather_dummy = 1\n",
    "    else:\n",
    "        weather_dummy = 0\n",
    "    weather_dum.extend([weather_dummy]*24)"
   ]
  },
  {
   "cell_type": "code",
   "execution_count": 47,
   "metadata": {
    "collapsed": true
   },
   "outputs": [],
   "source": [
    "# Simulate representative generator then run a total 1000 simulations for each city\n",
    "for i in range(1000):\n",
    "    if i == 0:\n",
    "        la_sim = jun_gen_data['generation'][jun_gen_data['city']=='los_angeles'].apply(lambda x: max(x-np.random.exponential(scale = .4),0) if x !=0 else x)\n",
    "        rep_la_sim = la_sim\n",
    "        continue\n",
    "    la_sim = la_sim + jun_gen_data['generation'][jun_gen_data['city']=='los_angeles'].apply(lambda x: max(x-np.random.exponential(scale = .4),0) if x !=0 else x)\n",
    "    \n",
    "for i in range(1000):\n",
    "    if i == 0:\n",
    "        redd_sim = jun_gen_data['generation'][jun_gen_data['city']=='redding'].apply(lambda x: max(x-np.random.exponential(scale = .4),0) if x !=0 else x)\n",
    "        rep_redd_sim = redd_sim\n",
    "        continue\n",
    "    redd_sim = redd_sim + jun_gen_data['generation'][jun_gen_data['city']=='redding'].apply(lambda x: max(x-np.random.exponential(scale = .4),0) if x !=0 else x)\n",
    "    \n",
    "for i in range(1000):\n",
    "    if i == 0:\n",
    "        fres_sim = jun_gen_data['generation'][jun_gen_data['city']=='fresno'].apply(lambda x: max(x-np.random.exponential(scale = .4),0) if x !=0 else x)\n",
    "        rep_fres_sim = fres_sim\n",
    "        continue\n",
    "    fres_sim = fres_sim + jun_gen_data['generation'][jun_gen_data['city']=='fresno'].apply(lambda x: max(x-np.random.exponential(scale = .4),0) if x !=0 else x)"
   ]
  },
  {
   "cell_type": "code",
   "execution_count": 48,
   "metadata": {},
   "outputs": [
    {
     "data": {
      "text/plain": [
       "3624    0.000000\n",
       "3625    0.000000\n",
       "3626    0.000000\n",
       "3627    0.000000\n",
       "3628    0.000000\n",
       "3629    0.000000\n",
       "3630    0.085280\n",
       "3631    0.511341\n",
       "3632    1.544347\n",
       "3633    1.944991\n",
       "3634    2.844749\n",
       "3635    2.775005\n",
       "3636    2.967843\n",
       "3637    2.608506\n",
       "3638    2.114849\n",
       "3639    0.852652\n",
       "3640    0.588559\n",
       "3641    0.000000\n",
       "3642    0.029552\n",
       "3643    0.000000\n",
       "3644    0.000000\n",
       "3645    0.000000\n",
       "3646    0.000000\n",
       "3647    0.000000\n",
       "Name: generation, dtype: float64"
      ]
     },
     "execution_count": 48,
     "metadata": {},
     "output_type": "execute_result"
    }
   ],
   "source": [
    "rep_la_sim.head(n=24)"
   ]
  },
  {
   "cell_type": "code",
   "execution_count": 49,
   "metadata": {},
   "outputs": [
    {
     "data": {
      "text/plain": [
       "3624    0.000000\n",
       "3625    0.000000\n",
       "3626    0.000000\n",
       "3627    0.000000\n",
       "3628    0.000000\n",
       "3629    0.150114\n",
       "3630    0.500639\n",
       "3631    0.969551\n",
       "3632    1.572205\n",
       "3633    2.268267\n",
       "3634    2.880147\n",
       "3635    2.955304\n",
       "3636    3.111142\n",
       "3637    2.724763\n",
       "3638    2.305034\n",
       "3639    1.590368\n",
       "3640    0.863436\n",
       "3641    0.166799\n",
       "3642    0.051850\n",
       "3643    0.000000\n",
       "3644    0.000000\n",
       "3645    0.000000\n",
       "3646    0.000000\n",
       "3647    0.000000\n",
       "Name: generation, dtype: float64"
      ]
     },
     "execution_count": 49,
     "metadata": {},
     "output_type": "execute_result"
    }
   ],
   "source": [
    "jun_gen_data['generation'][jun_gen_data['city']=='los_angeles'].head(n=24)"
   ]
  },
  {
   "cell_type": "code",
   "execution_count": 50,
   "metadata": {
    "collapsed": true
   },
   "outputs": [],
   "source": [
    "### Create dataframe with load, simulated generation, representative variables, and the weather variables"
   ]
  },
  {
   "cell_type": "code",
   "execution_count": 51,
   "metadata": {
    "collapsed": true
   },
   "outputs": [],
   "source": [
    "jun_sim = {\"la_sim\": la_sim,\n",
    "          \"rep_la_sim\": rep_la_sim,\n",
    "          \"redd_sim\": redd_sim,\n",
    "          \"rep_redd_sim\": rep_redd_sim,\n",
    "          \"fres_sim\": fres_sim,\n",
    "          \"rep_fres_sim\": rep_fres_sim,\n",
    "          \"weather\": weather_dum}\n",
    "jun_sim = pd.DataFrame(jun_sim)"
   ]
  },
  {
   "cell_type": "code",
   "execution_count": 52,
   "metadata": {
    "collapsed": true
   },
   "outputs": [],
   "source": [
    "## Merge with 'load_act,' then figure out how to run regressions"
   ]
  },
  {
   "cell_type": "code",
   "execution_count": 53,
   "metadata": {},
   "outputs": [
    {
     "data": {
      "text/html": [
       "<div>\n",
       "<style>\n",
       "    .dataframe thead tr:only-child th {\n",
       "        text-align: right;\n",
       "    }\n",
       "\n",
       "    .dataframe thead th {\n",
       "        text-align: left;\n",
       "    }\n",
       "\n",
       "    .dataframe tbody tr th {\n",
       "        vertical-align: top;\n",
       "    }\n",
       "</style>\n",
       "<table border=\"1\" class=\"dataframe\">\n",
       "  <thead>\n",
       "    <tr style=\"text-align: right;\">\n",
       "      <th></th>\n",
       "      <th>fres_sim</th>\n",
       "      <th>la_sim</th>\n",
       "      <th>redd_sim</th>\n",
       "      <th>rep_fres_sim</th>\n",
       "      <th>rep_la_sim</th>\n",
       "      <th>rep_redd_sim</th>\n",
       "      <th>weather</th>\n",
       "    </tr>\n",
       "  </thead>\n",
       "  <tbody>\n",
       "    <tr>\n",
       "      <th>3624</th>\n",
       "      <td>0.0</td>\n",
       "      <td>0.0</td>\n",
       "      <td>0.0</td>\n",
       "      <td>0.0</td>\n",
       "      <td>0.0</td>\n",
       "      <td>0.0</td>\n",
       "      <td>0</td>\n",
       "    </tr>\n",
       "    <tr>\n",
       "      <th>3625</th>\n",
       "      <td>0.0</td>\n",
       "      <td>0.0</td>\n",
       "      <td>0.0</td>\n",
       "      <td>0.0</td>\n",
       "      <td>0.0</td>\n",
       "      <td>0.0</td>\n",
       "      <td>0</td>\n",
       "    </tr>\n",
       "    <tr>\n",
       "      <th>3626</th>\n",
       "      <td>0.0</td>\n",
       "      <td>0.0</td>\n",
       "      <td>0.0</td>\n",
       "      <td>0.0</td>\n",
       "      <td>0.0</td>\n",
       "      <td>0.0</td>\n",
       "      <td>0</td>\n",
       "    </tr>\n",
       "    <tr>\n",
       "      <th>3627</th>\n",
       "      <td>0.0</td>\n",
       "      <td>0.0</td>\n",
       "      <td>0.0</td>\n",
       "      <td>0.0</td>\n",
       "      <td>0.0</td>\n",
       "      <td>0.0</td>\n",
       "      <td>0</td>\n",
       "    </tr>\n",
       "    <tr>\n",
       "      <th>3628</th>\n",
       "      <td>0.0</td>\n",
       "      <td>0.0</td>\n",
       "      <td>0.0</td>\n",
       "      <td>0.0</td>\n",
       "      <td>0.0</td>\n",
       "      <td>0.0</td>\n",
       "      <td>0</td>\n",
       "    </tr>\n",
       "  </tbody>\n",
       "</table>\n",
       "</div>"
      ],
      "text/plain": [
       "      fres_sim  la_sim  redd_sim  rep_fres_sim  rep_la_sim  rep_redd_sim  \\\n",
       "3624       0.0     0.0       0.0           0.0         0.0           0.0   \n",
       "3625       0.0     0.0       0.0           0.0         0.0           0.0   \n",
       "3626       0.0     0.0       0.0           0.0         0.0           0.0   \n",
       "3627       0.0     0.0       0.0           0.0         0.0           0.0   \n",
       "3628       0.0     0.0       0.0           0.0         0.0           0.0   \n",
       "\n",
       "      weather  \n",
       "3624        0  \n",
       "3625        0  \n",
       "3626        0  \n",
       "3627        0  \n",
       "3628        0  "
      ]
     },
     "execution_count": 53,
     "metadata": {},
     "output_type": "execute_result"
    }
   ],
   "source": [
    "jun_sim.head()"
   ]
  },
  {
   "cell_type": "code",
   "execution_count": 54,
   "metadata": {
    "collapsed": true
   },
   "outputs": [],
   "source": [
    "## Merge with total load_act\n",
    "# An index from 0 to 719 already exits. Use this to create an index on which to merge\n",
    "jun_sim['index'] = ind"
   ]
  },
  {
   "cell_type": "code",
   "execution_count": 55,
   "metadata": {},
   "outputs": [
    {
     "data": {
      "text/html": [
       "<div>\n",
       "<style>\n",
       "    .dataframe thead tr:only-child th {\n",
       "        text-align: right;\n",
       "    }\n",
       "\n",
       "    .dataframe thead th {\n",
       "        text-align: left;\n",
       "    }\n",
       "\n",
       "    .dataframe tbody tr th {\n",
       "        vertical-align: top;\n",
       "    }\n",
       "</style>\n",
       "<table border=\"1\" class=\"dataframe\">\n",
       "  <thead>\n",
       "    <tr style=\"text-align: right;\">\n",
       "      <th></th>\n",
       "      <th>load_hr</th>\n",
       "      <th>day</th>\n",
       "      <th>hour</th>\n",
       "      <th>index</th>\n",
       "      <th>date_time</th>\n",
       "    </tr>\n",
       "  </thead>\n",
       "  <tbody>\n",
       "    <tr>\n",
       "      <th>0</th>\n",
       "      <td>10.577134</td>\n",
       "      <td>1</td>\n",
       "      <td>0</td>\n",
       "      <td>0</td>\n",
       "      <td>2017-06-01 00:00:00</td>\n",
       "    </tr>\n",
       "    <tr>\n",
       "      <th>1</th>\n",
       "      <td>9.924829</td>\n",
       "      <td>1</td>\n",
       "      <td>1</td>\n",
       "      <td>1</td>\n",
       "      <td>2017-06-01 01:00:00</td>\n",
       "    </tr>\n",
       "    <tr>\n",
       "      <th>2</th>\n",
       "      <td>7.718577</td>\n",
       "      <td>1</td>\n",
       "      <td>2</td>\n",
       "      <td>2</td>\n",
       "      <td>2017-06-01 02:00:00</td>\n",
       "    </tr>\n",
       "    <tr>\n",
       "      <th>3</th>\n",
       "      <td>7.453556</td>\n",
       "      <td>1</td>\n",
       "      <td>3</td>\n",
       "      <td>3</td>\n",
       "      <td>2017-06-01 03:00:00</td>\n",
       "    </tr>\n",
       "    <tr>\n",
       "      <th>4</th>\n",
       "      <td>12.300450</td>\n",
       "      <td>1</td>\n",
       "      <td>4</td>\n",
       "      <td>4</td>\n",
       "      <td>2017-06-01 04:00:00</td>\n",
       "    </tr>\n",
       "  </tbody>\n",
       "</table>\n",
       "</div>"
      ],
      "text/plain": [
       "     load_hr  day  hour  index           date_time\n",
       "0  10.577134    1     0      0 2017-06-01 00:00:00\n",
       "1   9.924829    1     1      1 2017-06-01 01:00:00\n",
       "2   7.718577    1     2      2 2017-06-01 02:00:00\n",
       "3   7.453556    1     3      3 2017-06-01 03:00:00\n",
       "4  12.300450    1     4      4 2017-06-01 04:00:00"
      ]
     },
     "execution_count": 55,
     "metadata": {},
     "output_type": "execute_result"
    }
   ],
   "source": [
    "load_act.head()"
   ]
  },
  {
   "cell_type": "code",
   "execution_count": 56,
   "metadata": {
    "collapsed": true
   },
   "outputs": [],
   "source": [
    "load_gen = load_act.merge(jun_sim,on='index')"
   ]
  },
  {
   "cell_type": "code",
   "execution_count": 57,
   "metadata": {},
   "outputs": [
    {
     "data": {
      "text/html": [
       "<div>\n",
       "<style>\n",
       "    .dataframe thead tr:only-child th {\n",
       "        text-align: right;\n",
       "    }\n",
       "\n",
       "    .dataframe thead th {\n",
       "        text-align: left;\n",
       "    }\n",
       "\n",
       "    .dataframe tbody tr th {\n",
       "        vertical-align: top;\n",
       "    }\n",
       "</style>\n",
       "<table border=\"1\" class=\"dataframe\">\n",
       "  <thead>\n",
       "    <tr style=\"text-align: right;\">\n",
       "      <th></th>\n",
       "      <th>load_hr</th>\n",
       "      <th>day</th>\n",
       "      <th>hour</th>\n",
       "      <th>index</th>\n",
       "      <th>date_time</th>\n",
       "      <th>fres_sim</th>\n",
       "      <th>la_sim</th>\n",
       "      <th>redd_sim</th>\n",
       "      <th>rep_fres_sim</th>\n",
       "      <th>rep_la_sim</th>\n",
       "      <th>rep_redd_sim</th>\n",
       "      <th>weather</th>\n",
       "    </tr>\n",
       "  </thead>\n",
       "  <tbody>\n",
       "    <tr>\n",
       "      <th>0</th>\n",
       "      <td>10.577134</td>\n",
       "      <td>1</td>\n",
       "      <td>0</td>\n",
       "      <td>0</td>\n",
       "      <td>2017-06-01 00:00:00</td>\n",
       "      <td>0.0</td>\n",
       "      <td>0.0</td>\n",
       "      <td>0.0</td>\n",
       "      <td>0.0</td>\n",
       "      <td>0.0</td>\n",
       "      <td>0.0</td>\n",
       "      <td>0</td>\n",
       "    </tr>\n",
       "    <tr>\n",
       "      <th>1</th>\n",
       "      <td>9.924829</td>\n",
       "      <td>1</td>\n",
       "      <td>1</td>\n",
       "      <td>1</td>\n",
       "      <td>2017-06-01 01:00:00</td>\n",
       "      <td>0.0</td>\n",
       "      <td>0.0</td>\n",
       "      <td>0.0</td>\n",
       "      <td>0.0</td>\n",
       "      <td>0.0</td>\n",
       "      <td>0.0</td>\n",
       "      <td>0</td>\n",
       "    </tr>\n",
       "    <tr>\n",
       "      <th>2</th>\n",
       "      <td>7.718577</td>\n",
       "      <td>1</td>\n",
       "      <td>2</td>\n",
       "      <td>2</td>\n",
       "      <td>2017-06-01 02:00:00</td>\n",
       "      <td>0.0</td>\n",
       "      <td>0.0</td>\n",
       "      <td>0.0</td>\n",
       "      <td>0.0</td>\n",
       "      <td>0.0</td>\n",
       "      <td>0.0</td>\n",
       "      <td>0</td>\n",
       "    </tr>\n",
       "    <tr>\n",
       "      <th>3</th>\n",
       "      <td>7.453556</td>\n",
       "      <td>1</td>\n",
       "      <td>3</td>\n",
       "      <td>3</td>\n",
       "      <td>2017-06-01 03:00:00</td>\n",
       "      <td>0.0</td>\n",
       "      <td>0.0</td>\n",
       "      <td>0.0</td>\n",
       "      <td>0.0</td>\n",
       "      <td>0.0</td>\n",
       "      <td>0.0</td>\n",
       "      <td>0</td>\n",
       "    </tr>\n",
       "    <tr>\n",
       "      <th>4</th>\n",
       "      <td>12.300450</td>\n",
       "      <td>1</td>\n",
       "      <td>4</td>\n",
       "      <td>4</td>\n",
       "      <td>2017-06-01 04:00:00</td>\n",
       "      <td>0.0</td>\n",
       "      <td>0.0</td>\n",
       "      <td>0.0</td>\n",
       "      <td>0.0</td>\n",
       "      <td>0.0</td>\n",
       "      <td>0.0</td>\n",
       "      <td>0</td>\n",
       "    </tr>\n",
       "  </tbody>\n",
       "</table>\n",
       "</div>"
      ],
      "text/plain": [
       "     load_hr  day  hour  index           date_time  fres_sim  la_sim  \\\n",
       "0  10.577134    1     0      0 2017-06-01 00:00:00       0.0     0.0   \n",
       "1   9.924829    1     1      1 2017-06-01 01:00:00       0.0     0.0   \n",
       "2   7.718577    1     2      2 2017-06-01 02:00:00       0.0     0.0   \n",
       "3   7.453556    1     3      3 2017-06-01 03:00:00       0.0     0.0   \n",
       "4  12.300450    1     4      4 2017-06-01 04:00:00       0.0     0.0   \n",
       "\n",
       "   redd_sim  rep_fres_sim  rep_la_sim  rep_redd_sim  weather  \n",
       "0       0.0           0.0         0.0           0.0        0  \n",
       "1       0.0           0.0         0.0           0.0        0  \n",
       "2       0.0           0.0         0.0           0.0        0  \n",
       "3       0.0           0.0         0.0           0.0        0  \n",
       "4       0.0           0.0         0.0           0.0        0  "
      ]
     },
     "execution_count": 57,
     "metadata": {},
     "output_type": "execute_result"
    }
   ],
   "source": [
    "load_gen.head()"
   ]
  },
  {
   "cell_type": "code",
   "execution_count": 58,
   "metadata": {
    "collapsed": true
   },
   "outputs": [],
   "source": [
    "def wtr_sim(load,wtr):\n",
    "    return load - (.1*load*wtr)"
   ]
  },
  {
   "cell_type": "code",
   "execution_count": 59,
   "metadata": {
    "collapsed": true
   },
   "outputs": [],
   "source": [
    "# Decrease load_hr by 10% if weather=1\n",
    "load_gen['load_hr'] = load_gen.apply(lambda x: wtr_sim(x['load_hr'],x['weather']),axis=1)"
   ]
  },
  {
   "cell_type": "code",
   "execution_count": 60,
   "metadata": {
    "collapsed": true
   },
   "outputs": [],
   "source": [
    "### Set up dynamic regression (basically OLS with lags)\n",
    "## Identify lag lengths and create lags; run regression\n",
    "## Create hourly dummy variables"
   ]
  },
  {
   "cell_type": "code",
   "execution_count": 61,
   "metadata": {
    "collapsed": true
   },
   "outputs": [],
   "source": [
    "from statsmodels.graphics.tsaplots import plot_acf"
   ]
  },
  {
   "cell_type": "code",
   "execution_count": 62,
   "metadata": {},
   "outputs": [
    {
     "data": {
      "image/png": "[encoded data removed]",
      "text/plain": [
       "<matplotlib.figure.Figure at 0x12a5c390>"
      ]
     },
     "execution_count": 62,
     "metadata": {},
     "output_type": "execute_result"
    }
   ],
   "source": [
    "# Identifying the number of lags\n",
    "plot_acf(load_gen.load_hr,lags=24)\n",
    "# Create 1-hour and 24-hour lags"
   ]
  },
  {
   "cell_type": "code",
   "execution_count": 63,
   "metadata": {},
   "outputs": [
    {
     "data": {
      "text/html": [
       "<div>\n",
       "<style>\n",
       "    .dataframe thead tr:only-child th {\n",
       "        text-align: right;\n",
       "    }\n",
       "\n",
       "    .dataframe thead th {\n",
       "        text-align: left;\n",
       "    }\n",
       "\n",
       "    .dataframe tbody tr th {\n",
       "        vertical-align: top;\n",
       "    }\n",
       "</style>\n",
       "<table border=\"1\" class=\"dataframe\">\n",
       "  <thead>\n",
       "    <tr style=\"text-align: right;\">\n",
       "      <th></th>\n",
       "      <th>load_hr</th>\n",
       "      <th>day</th>\n",
       "      <th>hour</th>\n",
       "      <th>index</th>\n",
       "      <th>date_time</th>\n",
       "      <th>fres_sim</th>\n",
       "      <th>la_sim</th>\n",
       "      <th>redd_sim</th>\n",
       "      <th>rep_fres_sim</th>\n",
       "      <th>rep_la_sim</th>\n",
       "      <th>rep_redd_sim</th>\n",
       "      <th>weather</th>\n",
       "    </tr>\n",
       "  </thead>\n",
       "  <tbody>\n",
       "    <tr>\n",
       "      <th>0</th>\n",
       "      <td>10.577134</td>\n",
       "      <td>1</td>\n",
       "      <td>0</td>\n",
       "      <td>0</td>\n",
       "      <td>2017-06-01 00:00:00</td>\n",
       "      <td>0.0</td>\n",
       "      <td>0.0</td>\n",
       "      <td>0.0</td>\n",
       "      <td>0.0</td>\n",
       "      <td>0.0</td>\n",
       "      <td>0.0</td>\n",
       "      <td>0</td>\n",
       "    </tr>\n",
       "    <tr>\n",
       "      <th>1</th>\n",
       "      <td>9.924829</td>\n",
       "      <td>1</td>\n",
       "      <td>1</td>\n",
       "      <td>1</td>\n",
       "      <td>2017-06-01 01:00:00</td>\n",
       "      <td>0.0</td>\n",
       "      <td>0.0</td>\n",
       "      <td>0.0</td>\n",
       "      <td>0.0</td>\n",
       "      <td>0.0</td>\n",
       "      <td>0.0</td>\n",
       "      <td>0</td>\n",
       "    </tr>\n",
       "    <tr>\n",
       "      <th>2</th>\n",
       "      <td>7.718577</td>\n",
       "      <td>1</td>\n",
       "      <td>2</td>\n",
       "      <td>2</td>\n",
       "      <td>2017-06-01 02:00:00</td>\n",
       "      <td>0.0</td>\n",
       "      <td>0.0</td>\n",
       "      <td>0.0</td>\n",
       "      <td>0.0</td>\n",
       "      <td>0.0</td>\n",
       "      <td>0.0</td>\n",
       "      <td>0</td>\n",
       "    </tr>\n",
       "    <tr>\n",
       "      <th>3</th>\n",
       "      <td>7.453556</td>\n",
       "      <td>1</td>\n",
       "      <td>3</td>\n",
       "      <td>3</td>\n",
       "      <td>2017-06-01 03:00:00</td>\n",
       "      <td>0.0</td>\n",
       "      <td>0.0</td>\n",
       "      <td>0.0</td>\n",
       "      <td>0.0</td>\n",
       "      <td>0.0</td>\n",
       "      <td>0.0</td>\n",
       "      <td>0</td>\n",
       "    </tr>\n",
       "    <tr>\n",
       "      <th>4</th>\n",
       "      <td>12.300450</td>\n",
       "      <td>1</td>\n",
       "      <td>4</td>\n",
       "      <td>4</td>\n",
       "      <td>2017-06-01 04:00:00</td>\n",
       "      <td>0.0</td>\n",
       "      <td>0.0</td>\n",
       "      <td>0.0</td>\n",
       "      <td>0.0</td>\n",
       "      <td>0.0</td>\n",
       "      <td>0.0</td>\n",
       "      <td>0</td>\n",
       "    </tr>\n",
       "  </tbody>\n",
       "</table>\n",
       "</div>"
      ],
      "text/plain": [
       "     load_hr  day  hour  index           date_time  fres_sim  la_sim  \\\n",
       "0  10.577134    1     0      0 2017-06-01 00:00:00       0.0     0.0   \n",
       "1   9.924829    1     1      1 2017-06-01 01:00:00       0.0     0.0   \n",
       "2   7.718577    1     2      2 2017-06-01 02:00:00       0.0     0.0   \n",
       "3   7.453556    1     3      3 2017-06-01 03:00:00       0.0     0.0   \n",
       "4  12.300450    1     4      4 2017-06-01 04:00:00       0.0     0.0   \n",
       "\n",
       "   redd_sim  rep_fres_sim  rep_la_sim  rep_redd_sim  weather  \n",
       "0       0.0           0.0         0.0           0.0        0  \n",
       "1       0.0           0.0         0.0           0.0        0  \n",
       "2       0.0           0.0         0.0           0.0        0  \n",
       "3       0.0           0.0         0.0           0.0        0  \n",
       "4       0.0           0.0         0.0           0.0        0  "
      ]
     },
     "execution_count": 63,
     "metadata": {},
     "output_type": "execute_result"
    }
   ],
   "source": [
    "load_gen.head()"
   ]
  },
  {
   "cell_type": "code",
   "execution_count": 64,
   "metadata": {
    "collapsed": true
   },
   "outputs": [],
   "source": [
    "# Creates lags 1 and 24\n",
    "load_gen['load_lag1'] = load_gen['load_hr'].shift()\n",
    "load_gen['load_lag24'] = load_gen['load_hr'].shift(24)"
   ]
  },
  {
   "cell_type": "code",
   "execution_count": 65,
   "metadata": {
    "collapsed": true
   },
   "outputs": [],
   "source": [
    "# Create dummy variables\n",
    "dummies = pd.get_dummies(load_gen.hour)"
   ]
  },
  {
   "cell_type": "code",
   "execution_count": 66,
   "metadata": {},
   "outputs": [
    {
     "data": {
      "text/html": [
       "<div>\n",
       "<style>\n",
       "    .dataframe thead tr:only-child th {\n",
       "        text-align: right;\n",
       "    }\n",
       "\n",
       "    .dataframe thead th {\n",
       "        text-align: left;\n",
       "    }\n",
       "\n",
       "    .dataframe tbody tr th {\n",
       "        vertical-align: top;\n",
       "    }\n",
       "</style>\n",
       "<table border=\"1\" class=\"dataframe\">\n",
       "  <thead>\n",
       "    <tr style=\"text-align: right;\">\n",
       "      <th></th>\n",
       "      <th>0</th>\n",
       "      <th>1</th>\n",
       "      <th>2</th>\n",
       "      <th>3</th>\n",
       "      <th>4</th>\n",
       "      <th>5</th>\n",
       "      <th>6</th>\n",
       "      <th>7</th>\n",
       "      <th>8</th>\n",
       "      <th>9</th>\n",
       "      <th>...</th>\n",
       "      <th>14</th>\n",
       "      <th>15</th>\n",
       "      <th>16</th>\n",
       "      <th>17</th>\n",
       "      <th>18</th>\n",
       "      <th>19</th>\n",
       "      <th>20</th>\n",
       "      <th>21</th>\n",
       "      <th>22</th>\n",
       "      <th>23</th>\n",
       "    </tr>\n",
       "  </thead>\n",
       "  <tbody>\n",
       "    <tr>\n",
       "      <th>0</th>\n",
       "      <td>1</td>\n",
       "      <td>0</td>\n",
       "      <td>0</td>\n",
       "      <td>0</td>\n",
       "      <td>0</td>\n",
       "      <td>0</td>\n",
       "      <td>0</td>\n",
       "      <td>0</td>\n",
       "      <td>0</td>\n",
       "      <td>0</td>\n",
       "      <td>...</td>\n",
       "      <td>0</td>\n",
       "      <td>0</td>\n",
       "      <td>0</td>\n",
       "      <td>0</td>\n",
       "      <td>0</td>\n",
       "      <td>0</td>\n",
       "      <td>0</td>\n",
       "      <td>0</td>\n",
       "      <td>0</td>\n",
       "      <td>0</td>\n",
       "    </tr>\n",
       "    <tr>\n",
       "      <th>1</th>\n",
       "      <td>0</td>\n",
       "      <td>1</td>\n",
       "      <td>0</td>\n",
       "      <td>0</td>\n",
       "      <td>0</td>\n",
       "      <td>0</td>\n",
       "      <td>0</td>\n",
       "      <td>0</td>\n",
       "      <td>0</td>\n",
       "      <td>0</td>\n",
       "      <td>...</td>\n",
       "      <td>0</td>\n",
       "      <td>0</td>\n",
       "      <td>0</td>\n",
       "      <td>0</td>\n",
       "      <td>0</td>\n",
       "      <td>0</td>\n",
       "      <td>0</td>\n",
       "      <td>0</td>\n",
       "      <td>0</td>\n",
       "      <td>0</td>\n",
       "    </tr>\n",
       "    <tr>\n",
       "      <th>2</th>\n",
       "      <td>0</td>\n",
       "      <td>0</td>\n",
       "      <td>1</td>\n",
       "      <td>0</td>\n",
       "      <td>0</td>\n",
       "      <td>0</td>\n",
       "      <td>0</td>\n",
       "      <td>0</td>\n",
       "      <td>0</td>\n",
       "      <td>0</td>\n",
       "      <td>...</td>\n",
       "      <td>0</td>\n",
       "      <td>0</td>\n",
       "      <td>0</td>\n",
       "      <td>0</td>\n",
       "      <td>0</td>\n",
       "      <td>0</td>\n",
       "      <td>0</td>\n",
       "      <td>0</td>\n",
       "      <td>0</td>\n",
       "      <td>0</td>\n",
       "    </tr>\n",
       "    <tr>\n",
       "      <th>3</th>\n",
       "      <td>0</td>\n",
       "      <td>0</td>\n",
       "      <td>0</td>\n",
       "      <td>1</td>\n",
       "      <td>0</td>\n",
       "      <td>0</td>\n",
       "      <td>0</td>\n",
       "      <td>0</td>\n",
       "      <td>0</td>\n",
       "      <td>0</td>\n",
       "      <td>...</td>\n",
       "      <td>0</td>\n",
       "      <td>0</td>\n",
       "      <td>0</td>\n",
       "      <td>0</td>\n",
       "      <td>0</td>\n",
       "      <td>0</td>\n",
       "      <td>0</td>\n",
       "      <td>0</td>\n",
       "      <td>0</td>\n",
       "      <td>0</td>\n",
       "    </tr>\n",
       "    <tr>\n",
       "      <th>4</th>\n",
       "      <td>0</td>\n",
       "      <td>0</td>\n",
       "      <td>0</td>\n",
       "      <td>0</td>\n",
       "      <td>1</td>\n",
       "      <td>0</td>\n",
       "      <td>0</td>\n",
       "      <td>0</td>\n",
       "      <td>0</td>\n",
       "      <td>0</td>\n",
       "      <td>...</td>\n",
       "      <td>0</td>\n",
       "      <td>0</td>\n",
       "      <td>0</td>\n",
       "      <td>0</td>\n",
       "      <td>0</td>\n",
       "      <td>0</td>\n",
       "      <td>0</td>\n",
       "      <td>0</td>\n",
       "      <td>0</td>\n",
       "      <td>0</td>\n",
       "    </tr>\n",
       "  </tbody>\n",
       "</table>\n",
       "<p>5 rows × 24 columns</p>\n",
       "</div>"
      ],
      "text/plain": [
       "   0   1   2   3   4   5   6   7   8   9  ...  14  15  16  17  18  19  20  21  \\\n",
       "0   1   0   0   0   0   0   0   0   0   0 ...   0   0   0   0   0   0   0   0   \n",
       "1   0   1   0   0   0   0   0   0   0   0 ...   0   0   0   0   0   0   0   0   \n",
       "2   0   0   1   0   0   0   0   0   0   0 ...   0   0   0   0   0   0   0   0   \n",
       "3   0   0   0   1   0   0   0   0   0   0 ...   0   0   0   0   0   0   0   0   \n",
       "4   0   0   0   0   1   0   0   0   0   0 ...   0   0   0   0   0   0   0   0   \n",
       "\n",
       "   22  23  \n",
       "0   0   0  \n",
       "1   0   0  \n",
       "2   0   0  \n",
       "3   0   0  \n",
       "4   0   0  \n",
       "\n",
       "[5 rows x 24 columns]"
      ]
     },
     "execution_count": 66,
     "metadata": {},
     "output_type": "execute_result"
    }
   ],
   "source": [
    "dummies.head()"
   ]
  },
  {
   "cell_type": "code",
   "execution_count": 67,
   "metadata": {
    "collapsed": true
   },
   "outputs": [],
   "source": [
    "load_gen = load_gen.join(dummies,how='inner')"
   ]
  },
  {
   "cell_type": "code",
   "execution_count": 68,
   "metadata": {},
   "outputs": [
    {
     "data": {
      "text/html": [
       "<div>\n",
       "<style>\n",
       "    .dataframe thead tr:only-child th {\n",
       "        text-align: right;\n",
       "    }\n",
       "\n",
       "    .dataframe thead th {\n",
       "        text-align: left;\n",
       "    }\n",
       "\n",
       "    .dataframe tbody tr th {\n",
       "        vertical-align: top;\n",
       "    }\n",
       "</style>\n",
       "<table border=\"1\" class=\"dataframe\">\n",
       "  <thead>\n",
       "    <tr style=\"text-align: right;\">\n",
       "      <th></th>\n",
       "      <th>load_hr</th>\n",
       "      <th>day</th>\n",
       "      <th>hour</th>\n",
       "      <th>index</th>\n",
       "      <th>date_time</th>\n",
       "      <th>fres_sim</th>\n",
       "      <th>la_sim</th>\n",
       "      <th>redd_sim</th>\n",
       "      <th>rep_fres_sim</th>\n",
       "      <th>rep_la_sim</th>\n",
       "      <th>...</th>\n",
       "      <th>14</th>\n",
       "      <th>15</th>\n",
       "      <th>16</th>\n",
       "      <th>17</th>\n",
       "      <th>18</th>\n",
       "      <th>19</th>\n",
       "      <th>20</th>\n",
       "      <th>21</th>\n",
       "      <th>22</th>\n",
       "      <th>23</th>\n",
       "    </tr>\n",
       "  </thead>\n",
       "  <tbody>\n",
       "    <tr>\n",
       "      <th>0</th>\n",
       "      <td>10.577134</td>\n",
       "      <td>1</td>\n",
       "      <td>0</td>\n",
       "      <td>0</td>\n",
       "      <td>2017-06-01 00:00:00</td>\n",
       "      <td>0.0</td>\n",
       "      <td>0.0</td>\n",
       "      <td>0.0</td>\n",
       "      <td>0.0</td>\n",
       "      <td>0.0</td>\n",
       "      <td>...</td>\n",
       "      <td>0</td>\n",
       "      <td>0</td>\n",
       "      <td>0</td>\n",
       "      <td>0</td>\n",
       "      <td>0</td>\n",
       "      <td>0</td>\n",
       "      <td>0</td>\n",
       "      <td>0</td>\n",
       "      <td>0</td>\n",
       "      <td>0</td>\n",
       "    </tr>\n",
       "    <tr>\n",
       "      <th>1</th>\n",
       "      <td>9.924829</td>\n",
       "      <td>1</td>\n",
       "      <td>1</td>\n",
       "      <td>1</td>\n",
       "      <td>2017-06-01 01:00:00</td>\n",
       "      <td>0.0</td>\n",
       "      <td>0.0</td>\n",
       "      <td>0.0</td>\n",
       "      <td>0.0</td>\n",
       "      <td>0.0</td>\n",
       "      <td>...</td>\n",
       "      <td>0</td>\n",
       "      <td>0</td>\n",
       "      <td>0</td>\n",
       "      <td>0</td>\n",
       "      <td>0</td>\n",
       "      <td>0</td>\n",
       "      <td>0</td>\n",
       "      <td>0</td>\n",
       "      <td>0</td>\n",
       "      <td>0</td>\n",
       "    </tr>\n",
       "    <tr>\n",
       "      <th>2</th>\n",
       "      <td>7.718577</td>\n",
       "      <td>1</td>\n",
       "      <td>2</td>\n",
       "      <td>2</td>\n",
       "      <td>2017-06-01 02:00:00</td>\n",
       "      <td>0.0</td>\n",
       "      <td>0.0</td>\n",
       "      <td>0.0</td>\n",
       "      <td>0.0</td>\n",
       "      <td>0.0</td>\n",
       "      <td>...</td>\n",
       "      <td>0</td>\n",
       "      <td>0</td>\n",
       "      <td>0</td>\n",
       "      <td>0</td>\n",
       "      <td>0</td>\n",
       "      <td>0</td>\n",
       "      <td>0</td>\n",
       "      <td>0</td>\n",
       "      <td>0</td>\n",
       "      <td>0</td>\n",
       "    </tr>\n",
       "    <tr>\n",
       "      <th>3</th>\n",
       "      <td>7.453556</td>\n",
       "      <td>1</td>\n",
       "      <td>3</td>\n",
       "      <td>3</td>\n",
       "      <td>2017-06-01 03:00:00</td>\n",
       "      <td>0.0</td>\n",
       "      <td>0.0</td>\n",
       "      <td>0.0</td>\n",
       "      <td>0.0</td>\n",
       "      <td>0.0</td>\n",
       "      <td>...</td>\n",
       "      <td>0</td>\n",
       "      <td>0</td>\n",
       "      <td>0</td>\n",
       "      <td>0</td>\n",
       "      <td>0</td>\n",
       "      <td>0</td>\n",
       "      <td>0</td>\n",
       "      <td>0</td>\n",
       "      <td>0</td>\n",
       "      <td>0</td>\n",
       "    </tr>\n",
       "    <tr>\n",
       "      <th>4</th>\n",
       "      <td>12.300450</td>\n",
       "      <td>1</td>\n",
       "      <td>4</td>\n",
       "      <td>4</td>\n",
       "      <td>2017-06-01 04:00:00</td>\n",
       "      <td>0.0</td>\n",
       "      <td>0.0</td>\n",
       "      <td>0.0</td>\n",
       "      <td>0.0</td>\n",
       "      <td>0.0</td>\n",
       "      <td>...</td>\n",
       "      <td>0</td>\n",
       "      <td>0</td>\n",
       "      <td>0</td>\n",
       "      <td>0</td>\n",
       "      <td>0</td>\n",
       "      <td>0</td>\n",
       "      <td>0</td>\n",
       "      <td>0</td>\n",
       "      <td>0</td>\n",
       "      <td>0</td>\n",
       "    </tr>\n",
       "  </tbody>\n",
       "</table>\n",
       "<p>5 rows × 38 columns</p>\n",
       "</div>"
      ],
      "text/plain": [
       "     load_hr  day  hour  index           date_time  fres_sim  la_sim  \\\n",
       "0  10.577134    1     0      0 2017-06-01 00:00:00       0.0     0.0   \n",
       "1   9.924829    1     1      1 2017-06-01 01:00:00       0.0     0.0   \n",
       "2   7.718577    1     2      2 2017-06-01 02:00:00       0.0     0.0   \n",
       "3   7.453556    1     3      3 2017-06-01 03:00:00       0.0     0.0   \n",
       "4  12.300450    1     4      4 2017-06-01 04:00:00       0.0     0.0   \n",
       "\n",
       "   redd_sim  rep_fres_sim  rep_la_sim ...  14  15  16  17  18  19  20  21  22  \\\n",
       "0       0.0           0.0         0.0 ...   0   0   0   0   0   0   0   0   0   \n",
       "1       0.0           0.0         0.0 ...   0   0   0   0   0   0   0   0   0   \n",
       "2       0.0           0.0         0.0 ...   0   0   0   0   0   0   0   0   0   \n",
       "3       0.0           0.0         0.0 ...   0   0   0   0   0   0   0   0   0   \n",
       "4       0.0           0.0         0.0 ...   0   0   0   0   0   0   0   0   0   \n",
       "\n",
       "   23  \n",
       "0   0  \n",
       "1   0  \n",
       "2   0  \n",
       "3   0  \n",
       "4   0  \n",
       "\n",
       "[5 rows x 38 columns]"
      ]
     },
     "execution_count": 68,
     "metadata": {},
     "output_type": "execute_result"
    }
   ],
   "source": [
    "load_gen.head()"
   ]
  },
  {
   "cell_type": "code",
   "execution_count": 69,
   "metadata": {
    "collapsed": true
   },
   "outputs": [],
   "source": [
    "# Create a constant\n",
    "load_gen = sm.add_constant(load_gen)"
   ]
  },
  {
   "cell_type": "code",
   "execution_count": 70,
   "metadata": {
    "collapsed": true
   },
   "outputs": [],
   "source": [
    "## Create aggregate load variable (replace load_gen): convert load_hr to kwh subtract \"city_sim\" variables from load_hr\n",
    "load_gen['load_hr'] = (load_gen.load_hr*1000) - load_gen.fres_sim - load_gen.redd_sim - load_gen.la_sim"
   ]
  },
  {
   "cell_type": "code",
   "execution_count": 71,
   "metadata": {
    "collapsed": true
   },
   "outputs": [],
   "source": [
    "## Remove the 'city'_sim variables for the sake of sparsity\n",
    "load_gen = load_gen.drop(['fres_sim','redd_sim','la_sim'],axis = 1)"
   ]
  },
  {
   "cell_type": "code",
   "execution_count": 72,
   "metadata": {},
   "outputs": [
    {
     "data": {
      "text/plain": [
       "['const',\n",
       " 'load_hr',\n",
       " 'day',\n",
       " 'hour',\n",
       " 'index',\n",
       " 'date_time',\n",
       " 'rep_fres_sim',\n",
       " 'rep_la_sim',\n",
       " 'rep_redd_sim',\n",
       " 'weather',\n",
       " 'load_lag1',\n",
       " 'load_lag24',\n",
       " 0L,\n",
       " 1L,\n",
       " 2L,\n",
       " 3L,\n",
       " 4L,\n",
       " 5L,\n",
       " 6L,\n",
       " 7L,\n",
       " 8L,\n",
       " 9L,\n",
       " 10L,\n",
       " 11L,\n",
       " 12L,\n",
       " 13L,\n",
       " 14L,\n",
       " 15L,\n",
       " 16L,\n",
       " 17L,\n",
       " 18L,\n",
       " 19L,\n",
       " 20L,\n",
       " 21L,\n",
       " 22L,\n",
       " 23L]"
      ]
     },
     "execution_count": 72,
     "metadata": {},
     "output_type": "execute_result"
    }
   ],
   "source": [
    "# Return list of columnnames for reference\n",
    "list(load_gen.columns.values)"
   ]
  },
  {
   "cell_type": "code",
   "execution_count": 73,
   "metadata": {
    "collapsed": true
   },
   "outputs": [],
   "source": [
    "sparse_model = sm.OLS(endog=load_gen['load_hr'], exog=load_gen[['const','weather','load_lag1','load_lag24']], missing='drop').fit()"
   ]
  },
  {
   "cell_type": "code",
   "execution_count": 74,
   "metadata": {},
   "outputs": [
    {
     "name": "stdout",
     "output_type": "stream",
     "text": [
      "                            OLS Regression Results                            \n",
      "==============================================================================\n",
      "Dep. Variable:                load_hr   R-squared:                       0.872\n",
      "Model:                            OLS   Adj. R-squared:                  0.872\n",
      "Method:                 Least Squares   F-statistic:                     1576.\n",
      "Date:                Sun, 25 Mar 2018   Prob (F-statistic):          9.62e-309\n",
      "Time:                        14:30:06   Log-Likelihood:                -6834.1\n",
      "No. Observations:                 696   AIC:                         1.368e+04\n",
      "Df Residuals:                     692   BIC:                         1.369e+04\n",
      "Df Model:                           3                                         \n",
      "Covariance Type:            nonrobust                                         \n",
      "==============================================================================\n",
      "                 coef    std err          t      P>|t|      [0.025      0.975]\n",
      "------------------------------------------------------------------------------\n",
      "const       -432.2067    399.761     -1.081      0.280   -1217.096     352.683\n",
      "weather    -1050.3324    669.960     -1.568      0.117   -2365.730     265.065\n",
      "load_lag1    387.9370     29.780     13.027      0.000     329.467     446.407\n",
      "load_lag24   557.5046     29.831     18.689      0.000     498.934     616.075\n",
      "==============================================================================\n",
      "Omnibus:                       26.380   Durbin-Watson:                   2.022\n",
      "Prob(Omnibus):                  0.000   Jarque-Bera (JB):               44.338\n",
      "Skew:                           0.284   Prob(JB):                     2.36e-10\n",
      "Kurtosis:                       4.098   Cond. No.                         162.\n",
      "==============================================================================\n",
      "\n",
      "Warnings:\n",
      "[1] Standard Errors assume that the covariance matrix of the errors is correctly specified.\n"
     ]
    }
   ],
   "source": [
    "print(sparse_model.summary())"
   ]
  },
  {
   "cell_type": "code",
   "execution_count": 75,
   "metadata": {
    "collapsed": true
   },
   "outputs": [],
   "source": [
    "extended_model = sm.OLS(endog=load_gen['load_hr'], exog=load_gen[['const','weather','load_lag1','load_lag24','rep_la_sim', \\\n",
    "                    ]], missing='drop').fit()"
   ]
  },
  {
   "cell_type": "code",
   "execution_count": 76,
   "metadata": {},
   "outputs": [
    {
     "name": "stdout",
     "output_type": "stream",
     "text": [
      "                            OLS Regression Results                            \n",
      "==============================================================================\n",
      "Dep. Variable:                load_hr   R-squared:                       0.897\n",
      "Model:                            OLS   Adj. R-squared:                  0.897\n",
      "Method:                 Least Squares   F-statistic:                     1507.\n",
      "Date:                Sun, 25 Mar 2018   Prob (F-statistic):               0.00\n",
      "Time:                        14:30:06   Log-Likelihood:                -6758.9\n",
      "No. Observations:                 696   AIC:                         1.353e+04\n",
      "Df Residuals:                     691   BIC:                         1.355e+04\n",
      "Df Model:                           4                                         \n",
      "Covariance Type:            nonrobust                                         \n",
      "==============================================================================\n",
      "                 coef    std err          t      P>|t|      [0.025      0.975]\n",
      "------------------------------------------------------------------------------\n",
      "const        499.1891    366.286      1.363      0.173    -219.979    1218.357\n",
      "weather    -1271.7447    602.071     -2.112      0.035   -2453.852     -89.637\n",
      "load_lag1    288.7079     27.835     10.372      0.000     234.057     343.358\n",
      "load_lag24   675.5031     28.314     23.857      0.000     619.911     731.095\n",
      "rep_la_sim -2284.9763    177.054    -12.906      0.000   -2632.605   -1937.348\n",
      "==============================================================================\n",
      "Omnibus:                       36.045   Durbin-Watson:                   2.366\n",
      "Prob(Omnibus):                  0.000   Jarque-Bera (JB):               93.728\n",
      "Skew:                           0.218   Prob(JB):                     4.44e-21\n",
      "Kurtosis:                       4.744   Cond. No.                         162.\n",
      "==============================================================================\n",
      "\n",
      "Warnings:\n",
      "[1] Standard Errors assume that the covariance matrix of the errors is correctly specified.\n"
     ]
    }
   ],
   "source": [
    "print(extended_model.summary())"
   ]
  },
  {
   "cell_type": "code",
   "execution_count": 77,
   "metadata": {
    "collapsed": true
   },
   "outputs": [],
   "source": [
    "## Create graphs of predicted vs. observed"
   ]
  },
  {
   "cell_type": "code",
   "execution_count": 78,
   "metadata": {
    "collapsed": true
   },
   "outputs": [],
   "source": [
    "prediction_plot = load_gen[['load_hr','rep_la_sim','load_lag1','load_lag24','weather','day','hour','index']]"
   ]
  },
  {
   "cell_type": "code",
   "execution_count": 79,
   "metadata": {
    "collapsed": true
   },
   "outputs": [],
   "source": [
    "prediction_plot = prediction_plot.dropna(axis=0,how='any')"
   ]
  },
  {
   "cell_type": "code",
   "execution_count": 80,
   "metadata": {},
   "outputs": [
    {
     "data": {
      "text/plain": [
       "696"
      ]
     },
     "execution_count": 80,
     "metadata": {},
     "output_type": "execute_result"
    }
   ],
   "source": [
    "len(prediction_plot)"
   ]
  },
  {
   "cell_type": "code",
   "execution_count": 81,
   "metadata": {},
   "outputs": [
    {
     "data": {
      "image/png": "[encoded data removed]",
      "text/plain": [
       "<matplotlib.figure.Figure at 0x12c9efd0>"
      ]
     },
     "metadata": {},
     "output_type": "display_data"
    }
   ],
   "source": [
    "# Sparse model: actual vs. predicted\n",
    "plt.close()\n",
    "plt.scatter(prediction_plot['load_hr'],sparse_model.predict(),label='predicted')\n",
    "plt.plot([0,50000],[0,50000],color='r')\n",
    "plt.show()"
   ]
  },
  {
   "cell_type": "code",
   "execution_count": 82,
   "metadata": {},
   "outputs": [
    {
     "data": {
      "image/png": "[encoded data removed]",
      "text/plain": [
       "<matplotlib.figure.Figure at 0x12de73c8>"
      ]
     },
     "metadata": {},
     "output_type": "display_data"
    }
   ],
   "source": [
    "# Extended model: actual vs. predicted\n",
    "plt.close()\n",
    "plt.scatter(prediction_plot['load_hr'],extended_model.predict(),label='predicted')\n",
    "plt.plot([0,50000],[0,50000],color='r')\n",
    "plt.show()"
   ]
  },
  {
   "cell_type": "code",
   "execution_count": 83,
   "metadata": {
    "collapsed": true
   },
   "outputs": [],
   "source": [
    "## Graph residuals"
   ]
  },
  {
   "cell_type": "code",
   "execution_count": 84,
   "metadata": {
    "collapsed": true
   },
   "outputs": [],
   "source": [
    "# Create plot of residuals: prediction_plot = load_gen[['load_hr','rep_la_sim','load_lag1','load_lag24','weather','day','hour','index']]\n",
    "resid_plot = prediction_plot[['index','day','hour','load_hr']]"
   ]
  },
  {
   "cell_type": "code",
   "execution_count": 85,
   "metadata": {
    "collapsed": true
   },
   "outputs": [],
   "source": [
    "# Introduces 'level_0', which indicates previous index if harmonization is needed\n",
    "resid_plot.reset_index(inplace=True)"
   ]
  },
  {
   "cell_type": "code",
   "execution_count": 86,
   "metadata": {},
   "outputs": [
    {
     "name": "stderr",
     "output_type": "stream",
     "text": [
      "C:\\Users\\David\\Anaconda2\\lib\\site-packages\\ipykernel_launcher.py:2: SettingWithCopyWarning: \n",
      "A value is trying to be set on a copy of a slice from a DataFrame.\n",
      "Try using .loc[row_indexer,col_indexer] = value instead\n",
      "\n",
      "See the caveats in the documentation: http://pandas.pydata.org/pandas-docs/stable/indexing.html#indexing-view-versus-copy\n",
      "  \n",
      "C:\\Users\\David\\Anaconda2\\lib\\site-packages\\ipykernel_launcher.py:3: SettingWithCopyWarning: \n",
      "A value is trying to be set on a copy of a slice from a DataFrame.\n",
      "Try using .loc[row_indexer,col_indexer] = value instead\n",
      "\n",
      "See the caveats in the documentation: http://pandas.pydata.org/pandas-docs/stable/indexing.html#indexing-view-versus-copy\n",
      "  This is separate from the ipykernel package so we can avoid doing imports until\n"
     ]
    }
   ],
   "source": [
    "# Creates series both for prediction and residuals\n",
    "resid_plot['spar_predict'] = pd.Series(sparse_model.predict())\n",
    "resid_plot['ext_predict'] = pd.Series(extended_model.predict())"
   ]
  },
  {
   "cell_type": "code",
   "execution_count": 87,
   "metadata": {
    "collapsed": true
   },
   "outputs": [],
   "source": [
    "resid_plot['spar_resid'] = resid_plot['spar_predict'] - resid_plot['load_hr']\n",
    "resid_plot['ext_resid'] = resid_plot['ext_predict'] - resid_plot['load_hr']"
   ]
  },
  {
   "cell_type": "code",
   "execution_count": 88,
   "metadata": {
    "collapsed": true
   },
   "outputs": [],
   "source": [
    "## Graph residuals"
   ]
  },
  {
   "cell_type": "code",
   "execution_count": 89,
   "metadata": {},
   "outputs": [
    {
     "data": {
      "image/png": "[encoded data removed]",
      "text/plain": [
       "<matplotlib.figure.Figure at 0x13067390>"
      ]
     },
     "metadata": {},
     "output_type": "display_data"
    }
   ],
   "source": [
    "# Residuals across each hour in dataset\n",
    "plt.close()\n",
    "plt.scatter(resid_plot['index'],resid_plot['spar_resid'],label='predicted')\n",
    "plt.plot([0,750],[0,0],color='r')\n",
    "plt.show()"
   ]
  },
  {
   "cell_type": "code",
   "execution_count": 90,
   "metadata": {},
   "outputs": [
    {
     "data": {
      "image/png": "[encoded data removed]",
      "text/plain": [
       "<matplotlib.figure.Figure at 0x12881748>"
      ]
     },
     "metadata": {},
     "output_type": "display_data"
    }
   ],
   "source": [
    "plt.close()\n",
    "plt.scatter(resid_plot['index'],resid_plot['ext_resid'],label='predicted')\n",
    "plt.plot([0,750],[0,0],color='r')\n",
    "plt.show()"
   ]
  },
  {
   "cell_type": "code",
   "execution_count": 91,
   "metadata": {},
   "outputs": [
    {
     "data": {
      "image/png": "[encoded data removed]",
      "text/plain": [
       "<matplotlib.figure.Figure at 0x1281ce48>"
      ]
     },
     "metadata": {},
     "output_type": "display_data"
    }
   ],
   "source": [
    "# Residuals by hour\n",
    "plt.close()\n",
    "plt.scatter(resid_plot['hour'],resid_plot['spar_resid'],label='predicted')\n",
    "plt.plot([0,24],[0,0],color='r')\n",
    "plt.show()"
   ]
  },
  {
   "cell_type": "code",
   "execution_count": 92,
   "metadata": {},
   "outputs": [
    {
     "data": {
      "image/png": "[encoded data removed]",
      "text/plain": [
       "<matplotlib.figure.Figure at 0x12e5d780>"
      ]
     },
     "metadata": {},
     "output_type": "display_data"
    }
   ],
   "source": [
    "plt.close()\n",
    "plt.scatter(resid_plot['hour'],resid_plot['ext_resid'],label='predicted')\n",
    "plt.plot([0,24],[0,0],color='r')\n",
    "plt.show()"
   ]
  },
  {
   "cell_type": "code",
   "execution_count": 93,
   "metadata": {
    "collapsed": true
   },
   "outputs": [],
   "source": [
    "dummy_model = sm.OLS(endog=load_gen['load_hr'], exog=load_gen[['const','weather','load_lag1','load_lag24','rep_la_sim', \\\n",
    "                    7L,8,9,10,11,12,13,14,15,16]], missing='drop').fit()"
   ]
  },
  {
   "cell_type": "code",
   "execution_count": 94,
   "metadata": {},
   "outputs": [
    {
     "name": "stdout",
     "output_type": "stream",
     "text": [
      "                            OLS Regression Results                            \n",
      "==============================================================================\n",
      "Dep. Variable:                load_hr   R-squared:                       0.900\n",
      "Model:                            OLS   Adj. R-squared:                  0.898\n",
      "Method:                 Least Squares   F-statistic:                     436.3\n",
      "Date:                Sun, 25 Mar 2018   Prob (F-statistic):               0.00\n",
      "Time:                        14:30:13   Log-Likelihood:                -6750.2\n",
      "No. Observations:                 696   AIC:                         1.353e+04\n",
      "Df Residuals:                     681   BIC:                         1.360e+04\n",
      "Df Model:                          14                                         \n",
      "Covariance Type:            nonrobust                                         \n",
      "==============================================================================\n",
      "                 coef    std err          t      P>|t|      [0.025      0.975]\n",
      "------------------------------------------------------------------------------\n",
      "const        795.1293    392.263      2.027      0.043      24.939    1565.320\n",
      "weather    -1244.1717    599.037     -2.077      0.038   -2420.353     -67.991\n",
      "load_lag1    302.0980     28.624     10.554      0.000     245.895     358.301\n",
      "load_lag24   646.4313     29.743     21.734      0.000     588.032     704.831\n",
      "rep_la_sim -1754.0332    436.944     -4.014      0.000   -2611.953    -896.113\n",
      "7           -441.6962    791.461     -0.558      0.577   -1995.693    1112.300\n",
      "8           -593.1437    841.629     -0.705      0.481   -2245.643    1059.356\n",
      "9          -1413.7420    984.695     -1.436      0.152   -3347.146     519.662\n",
      "10         -1042.5366   1169.123     -0.892      0.373   -3338.055    1252.982\n",
      "11         -1628.4717   1220.778     -1.334      0.183   -4025.413     768.469\n",
      "12         -1126.1574   1274.055     -0.884      0.377   -3627.704    1375.390\n",
      "13         -1770.8083   1175.909     -1.506      0.133   -4079.651     538.035\n",
      "14           771.1572   1110.516      0.694      0.488   -1409.290    2951.604\n",
      "15          -134.3064    950.527     -0.141      0.888   -2000.621    1732.009\n",
      "16          2187.6394    831.878      2.630      0.009     554.286    3820.993\n",
      "==============================================================================\n",
      "Omnibus:                       37.541   Durbin-Watson:                   2.383\n",
      "Prob(Omnibus):                  0.000   Jarque-Bera (JB):               99.935\n",
      "Skew:                           0.225   Prob(JB):                     1.99e-22\n",
      "Kurtosis:                       4.801   Cond. No.                         660.\n",
      "==============================================================================\n",
      "\n",
      "Warnings:\n",
      "[1] Standard Errors assume that the covariance matrix of the errors is correctly specified.\n"
     ]
    }
   ],
   "source": [
    "print(dummy_model.summary())"
   ]
  },
  {
   "cell_type": "code",
   "execution_count": 95,
   "metadata": {
    "collapsed": true
   },
   "outputs": [],
   "source": [
    "resid_plot['dum_predict'] = pd.Series(extended_model.predict())\n",
    "resid_plot['dum_resid'] = resid_plot['dum_predict'] - resid_plot['load_hr']"
   ]
  },
  {
   "cell_type": "code",
   "execution_count": 96,
   "metadata": {},
   "outputs": [
    {
     "data": {
      "image/png": "[encoded data removed]",
      "text/plain": [
       "<matplotlib.figure.Figure at 0x127fdc18>"
      ]
     },
     "metadata": {},
     "output_type": "display_data"
    }
   ],
   "source": [
    "# Dummy model: actual vs. predicted\n",
    "plt.close()\n",
    "plt.scatter(prediction_plot['load_hr'],dummy_model.predict(),label='predicted')\n",
    "plt.plot([0,50000],[0,50000],color='r')\n",
    "plt.show()"
   ]
  },
  {
   "cell_type": "code",
   "execution_count": 97,
   "metadata": {},
   "outputs": [
    {
     "data": {
      "image/png": "[encoded data removed]",
      "text/plain": [
       "<matplotlib.figure.Figure at 0x1109ee48>"
      ]
     },
     "metadata": {},
     "output_type": "display_data"
    }
   ],
   "source": [
    "plt.close()\n",
    "plt.scatter(resid_plot['index'],resid_plot['dum_resid'],label='predicted')\n",
    "plt.plot([0,750],[0,0],color='r')\n",
    "plt.show()"
   ]
  },
  {
   "cell_type": "code",
   "execution_count": 98,
   "metadata": {},
   "outputs": [
    {
     "data": {
      "image/png": "[encoded data removed]",
      "text/plain": [
       "<matplotlib.figure.Figure at 0x113f7400>"
      ]
     },
     "metadata": {},
     "output_type": "display_data"
    }
   ],
   "source": [
    "plt.close()\n",
    "plt.scatter(resid_plot['hour'],resid_plot['dum_resid'],label='predicted')\n",
    "plt.plot([0,24],[0,0],color='r')\n",
    "plt.show()"
   ]
  },
  {
   "cell_type": "code",
   "execution_count": null,
   "metadata": {
    "collapsed": true
   },
   "outputs": [],
   "source": []
  }
 ],
 "metadata": {
  "kernelspec": {
   "display_name": "Python 2",
   "language": "python",
   "name": "python2"
  },
  "language_info": {
   "codemirror_mode": {
    "name": "ipython",
    "version": 2
   },
   "file_extension": ".py",
   "mimetype": "text/x-python",
   "name": "python",
   "nbconvert_exporter": "python",
   "pygments_lexer": "ipython2",
   "version": "2.7.13"
  }
 },
 "nbformat": 4,
 "nbformat_minor": 2
}
