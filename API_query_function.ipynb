{
 "cells": [
  {
   "cell_type": "code",
   "execution_count": 9,
   "metadata": {},
   "outputs": [
    {
     "name": "stderr",
     "output_type": "stream",
     "text": [
      "C:\\Users\\David\\Anaconda2\\lib\\site-packages\\ggplot\\utils.py:81: FutureWarning: pandas.tslib is deprecated and will be removed in a future version.\n",
      "You can access Timestamp as pandas.Timestamp\n",
      "  pd.tslib.Timestamp,\n",
      "C:\\Users\\David\\Anaconda2\\lib\\site-packages\\ggplot\\stats\\smoothers.py:4: FutureWarning: The pandas.lib module is deprecated and will be removed in a future version. These are private functions and can be accessed from pandas._libs.lib instead\n",
      "  from pandas.lib import Timestamp\n",
      "C:\\Users\\David\\Anaconda2\\lib\\site-packages\\statsmodels\\compat\\pandas.py:56: FutureWarning: The pandas.core.datetools module is deprecated and will be removed in a future version. Please use the pandas.tseries module instead.\n",
      "  from pandas.core import datetools\n"
     ]
    }
   ],
   "source": [
    "import requests\n",
    "import zipfile\n",
    "import xml.etree.ElementTree as ET\n",
    "from bs4 import BeautifulSoup\n",
    "from datetime import date, datetime, timedelta\n",
    "import pandas as pd\n",
    "from ggplot import *\n",
    "import sqlite3"
   ]
  },
  {
   "cell_type": "code",
   "execution_count": 24,
   "metadata": {
    "collapsed": true
   },
   "outputs": [],
   "source": [
    "q_base = 'https://developer.nrel.gov/api/pvwatts/v5.xml?'\n",
    "# Los Angeles: q_main = 'lat=34.02&lon=-118.45&system_capacity=4&azimuth=180&tilt=40&array_type=1&module_type=1&losses=10&timeframe=hourly&'\n",
    "q_main = 'lat=36.783&lon=-119.717&system_capacity=4&azimuth=180&tilt=40&array_type=1&module_type=1&losses=10&timeframe=hourly&'\n",
    "api_key = 'api_key='"
   ]
  },
  {
   "cell_type": "code",
   "execution_count": 25,
   "metadata": {
    "collapsed": true
   },
   "outputs": [],
   "source": [
    "url = q_base + q_main + api_key"
   ]
  },
  {
   "cell_type": "code",
   "execution_count": 22,
   "metadata": {
    "collapsed": true
   },
   "outputs": [],
   "source": [
    "### Enter API and abbreviated place name (place_tag)\n",
    "def pvwatts_query(url):\n",
    "    r = requests.get(url)\n",
    "    open('extract','wb').write(r.content)\n",
    "    tree = ET.fromstring(r.content)\n",
    "    # Extract ac output for each hour in the year\n",
    "    gen = []\n",
    "    for data in tree.iter('ac'):\n",
    "        gen.append(data.text)\n",
    "        \n",
    "    ### Gen includes parent as first entry (which is empty here; remove; length should be 0)\n",
    "    del(gen[0])\n",
    "    len(gen)\n",
    "    \n",
    "    ### Convert entries into dataframe with dates\n",
    "    start = datetime.strptime('01/01/2017 00','%m/%d/%Y %H')\n",
    "    end = datetime.strptime('12/31/2017 23','%m/%d/%Y %H')\n",
    "    \n",
    "    delta = end - start\n",
    "    \n",
    "    ### Generate datetime variables for each out between the start and end dates\n",
    "    hour_steps = []\n",
    "\n",
    "    for i in range((delta.days + 1)*24):\n",
    "        hour_steps.append(start + timedelta(hours = i))\n",
    "    \n",
    "    df_gen = pd.DataFrame(\n",
    "    {'date_time':hour_steps,\n",
    "    'generation': gen})\n",
    "    \n",
    "    ### Create hour of the day variable\n",
    "    df_gen['hour'] = df_gen['date_time'].apply(lambda x: datetime.strftime(x,'%H'))\n",
    "    \n",
    "    df_gen['generation'] = df_gen['generation'].astype('float')\n",
    "    \n",
    "    return df_gen"
   ]
  },
  {
   "cell_type": "code",
   "execution_count": 26,
   "metadata": {
    "collapsed": true
   },
   "outputs": [],
   "source": [
    "fresno_gen = pvwatts_query(url)"
   ]
  },
  {
   "cell_type": "code",
   "execution_count": 27,
   "metadata": {},
   "outputs": [
    {
     "data": {
      "text/html": [
       "<div>\n",
       "<style>\n",
       "    .dataframe thead tr:only-child th {\n",
       "        text-align: right;\n",
       "    }\n",
       "\n",
       "    .dataframe thead th {\n",
       "        text-align: left;\n",
       "    }\n",
       "\n",
       "    .dataframe tbody tr th {\n",
       "        vertical-align: top;\n",
       "    }\n",
       "</style>\n",
       "<table border=\"1\" class=\"dataframe\">\n",
       "  <thead>\n",
       "    <tr style=\"text-align: right;\">\n",
       "      <th></th>\n",
       "      <th>date_time</th>\n",
       "      <th>generation</th>\n",
       "      <th>hour</th>\n",
       "    </tr>\n",
       "  </thead>\n",
       "  <tbody>\n",
       "    <tr>\n",
       "      <th>0</th>\n",
       "      <td>2017-01-01 00:00:00</td>\n",
       "      <td>0.000</td>\n",
       "      <td>00</td>\n",
       "    </tr>\n",
       "    <tr>\n",
       "      <th>1</th>\n",
       "      <td>2017-01-01 01:00:00</td>\n",
       "      <td>0.000</td>\n",
       "      <td>01</td>\n",
       "    </tr>\n",
       "    <tr>\n",
       "      <th>2</th>\n",
       "      <td>2017-01-01 02:00:00</td>\n",
       "      <td>0.000</td>\n",
       "      <td>02</td>\n",
       "    </tr>\n",
       "    <tr>\n",
       "      <th>3</th>\n",
       "      <td>2017-01-01 03:00:00</td>\n",
       "      <td>0.000</td>\n",
       "      <td>03</td>\n",
       "    </tr>\n",
       "    <tr>\n",
       "      <th>4</th>\n",
       "      <td>2017-01-01 04:00:00</td>\n",
       "      <td>0.000</td>\n",
       "      <td>04</td>\n",
       "    </tr>\n",
       "    <tr>\n",
       "      <th>5</th>\n",
       "      <td>2017-01-01 05:00:00</td>\n",
       "      <td>0.000</td>\n",
       "      <td>05</td>\n",
       "    </tr>\n",
       "    <tr>\n",
       "      <th>6</th>\n",
       "      <td>2017-01-01 06:00:00</td>\n",
       "      <td>0.000</td>\n",
       "      <td>06</td>\n",
       "    </tr>\n",
       "    <tr>\n",
       "      <th>7</th>\n",
       "      <td>2017-01-01 07:00:00</td>\n",
       "      <td>31.052</td>\n",
       "      <td>07</td>\n",
       "    </tr>\n",
       "    <tr>\n",
       "      <th>8</th>\n",
       "      <td>2017-01-01 08:00:00</td>\n",
       "      <td>261.520</td>\n",
       "      <td>08</td>\n",
       "    </tr>\n",
       "    <tr>\n",
       "      <th>9</th>\n",
       "      <td>2017-01-01 09:00:00</td>\n",
       "      <td>915.334</td>\n",
       "      <td>09</td>\n",
       "    </tr>\n",
       "    <tr>\n",
       "      <th>10</th>\n",
       "      <td>2017-01-01 10:00:00</td>\n",
       "      <td>1191.259</td>\n",
       "      <td>10</td>\n",
       "    </tr>\n",
       "    <tr>\n",
       "      <th>11</th>\n",
       "      <td>2017-01-01 11:00:00</td>\n",
       "      <td>1141.693</td>\n",
       "      <td>11</td>\n",
       "    </tr>\n",
       "    <tr>\n",
       "      <th>12</th>\n",
       "      <td>2017-01-01 12:00:00</td>\n",
       "      <td>742.624</td>\n",
       "      <td>12</td>\n",
       "    </tr>\n",
       "    <tr>\n",
       "      <th>13</th>\n",
       "      <td>2017-01-01 13:00:00</td>\n",
       "      <td>615.605</td>\n",
       "      <td>13</td>\n",
       "    </tr>\n",
       "    <tr>\n",
       "      <th>14</th>\n",
       "      <td>2017-01-01 14:00:00</td>\n",
       "      <td>343.360</td>\n",
       "      <td>14</td>\n",
       "    </tr>\n",
       "  </tbody>\n",
       "</table>\n",
       "</div>"
      ],
      "text/plain": [
       "             date_time  generation hour\n",
       "0  2017-01-01 00:00:00       0.000   00\n",
       "1  2017-01-01 01:00:00       0.000   01\n",
       "2  2017-01-01 02:00:00       0.000   02\n",
       "3  2017-01-01 03:00:00       0.000   03\n",
       "4  2017-01-01 04:00:00       0.000   04\n",
       "5  2017-01-01 05:00:00       0.000   05\n",
       "6  2017-01-01 06:00:00       0.000   06\n",
       "7  2017-01-01 07:00:00      31.052   07\n",
       "8  2017-01-01 08:00:00     261.520   08\n",
       "9  2017-01-01 09:00:00     915.334   09\n",
       "10 2017-01-01 10:00:00    1191.259   10\n",
       "11 2017-01-01 11:00:00    1141.693   11\n",
       "12 2017-01-01 12:00:00     742.624   12\n",
       "13 2017-01-01 13:00:00     615.605   13\n",
       "14 2017-01-01 14:00:00     343.360   14"
      ]
     },
     "execution_count": 27,
     "metadata": {},
     "output_type": "execute_result"
    }
   ],
   "source": [
    "fresno_gen.head(n=15)"
   ]
  },
  {
   "cell_type": "code",
   "execution_count": 28,
   "metadata": {
    "collapsed": true
   },
   "outputs": [],
   "source": [
    "conn = sqlite3.connect('pv_production_CA.db')"
   ]
  },
  {
   "cell_type": "code",
   "execution_count": 29,
   "metadata": {
    "collapsed": true
   },
   "outputs": [],
   "source": [
    "cur = conn.cursor()"
   ]
  },
  {
   "cell_type": "code",
   "execution_count": 30,
   "metadata": {
    "collapsed": true
   },
   "outputs": [],
   "source": [
    "fresno_gen.to_sql('fres_gen',conn)"
   ]
  },
  {
   "cell_type": "code",
   "execution_count": 31,
   "metadata": {},
   "outputs": [
    {
     "name": "stdout",
     "output_type": "stream",
     "text": [
      "[(u'la_gen',), (u'redd_gen',), (u'fres_gen',)]\n"
     ]
    }
   ],
   "source": [
    "cur.execute(\"SELECT name FROM sqlite_master WHERE type='table';\")\n",
    "print(cur.fetchall())"
   ]
  },
  {
   "cell_type": "code",
   "execution_count": 32,
   "metadata": {
    "collapsed": true
   },
   "outputs": [],
   "source": [
    "conn.close()"
   ]
  }
 ],
 "metadata": {
  "kernelspec": {
   "display_name": "Python 2",
   "language": "python",
   "name": "python2"
  },
  "language_info": {
   "codemirror_mode": {
    "name": "ipython",
    "version": 2
   },
   "file_extension": ".py",
   "mimetype": "text/x-python",
   "name": "python",
   "nbconvert_exporter": "python",
   "pygments_lexer": "ipython2",
   "version": "2.7.13"
  }
 },
 "nbformat": 4,
 "nbformat_minor": 2
}
